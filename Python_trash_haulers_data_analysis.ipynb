{
 "cells": [
  {
   "cell_type": "code",
   "execution_count": 1,
   "id": "2e0db22a-36a7-40b2-844c-0518b11bd856",
   "metadata": {},
   "outputs": [],
   "source": [
    "import pandas as pd\n",
    "import matplotlib.pyplot as plt\n",
    "import seaborn as sns\n",
    "import re \n",
    "import numpy as np"
   ]
  },
  {
   "cell_type": "markdown",
   "id": "a7c472cf-d507-4a3d-8008-a97ddfa95d8f",
   "metadata": {},
   "source": [
    "# *** trash"
   ]
  },
  {
   "cell_type": "code",
   "execution_count": 3,
   "id": "928470b1-67e9-4ac6-a912-cd8cb05826cc",
   "metadata": {},
   "outputs": [],
   "source": [
    "trash = pd.read_csv('../data/trash_hauler_report.csv')"
   ]
  },
  {
   "cell_type": "code",
   "execution_count": 4,
   "id": "b7e7b96d-73c4-4915-b682-3f74f1ed0815",
   "metadata": {},
   "outputs": [],
   "source": [
    "trash = trash.rename(columns = {'Request ':'request','Request Number':'request_number','Date Opened':'date_opened','Description':'description','Incident Address':'incident_address','Zip Code':'zipcode','Trash Hauler':'trash_hauler','Trash Route':'trash_route','Council District':'council_district','State Plan X':'state_plan_x','State Plan Y': 'state_plan_y'}) \n"
   ]
  },
  {
   "cell_type": "code",
   "execution_count": 5,
   "id": "ea75b60e-64e7-4921-ad67-e6bac827098b",
   "metadata": {},
   "outputs": [],
   "source": [
    "# data cleaning.\n",
    "\n",
    "trash['trash_hauler'] = trash['trash_hauler'].str.title()\n",
    "trash['incident_address'] = trash['incident_address'].str.title()\n",
    "trash['description'] = trash['description'].str.lower() "
   ]
  },
  {
   "cell_type": "code",
   "execution_count": 6,
   "id": "5db4f630-d1d2-4986-82f5-7842f50d6cfd",
   "metadata": {},
   "outputs": [
    {
     "data": {
      "text/html": [
       "<div>\n",
       "<style scoped>\n",
       "    .dataframe tbody tr th:only-of-type {\n",
       "        vertical-align: middle;\n",
       "    }\n",
       "\n",
       "    .dataframe tbody tr th {\n",
       "        vertical-align: top;\n",
       "    }\n",
       "\n",
       "    .dataframe thead th {\n",
       "        text-align: right;\n",
       "    }\n",
       "</style>\n",
       "<table border=\"1\" class=\"dataframe\">\n",
       "  <thead>\n",
       "    <tr style=\"text-align: right;\">\n",
       "      <th></th>\n",
       "      <th>count</th>\n",
       "    </tr>\n",
       "    <tr>\n",
       "      <th>trash_hauler</th>\n",
       "      <th></th>\n",
       "    </tr>\n",
       "  </thead>\n",
       "  <tbody>\n",
       "    <tr>\n",
       "      <th>Red River</th>\n",
       "      <td>14395</td>\n",
       "    </tr>\n",
       "    <tr>\n",
       "      <th>Metro</th>\n",
       "      <td>3580</td>\n",
       "    </tr>\n",
       "    <tr>\n",
       "      <th>Waste Ind</th>\n",
       "      <td>1350</td>\n",
       "    </tr>\n",
       "  </tbody>\n",
       "</table>\n",
       "</div>"
      ],
      "text/plain": [
       "              count\n",
       "trash_hauler       \n",
       "Red River     14395\n",
       "Metro          3580\n",
       "Waste Ind      1350"
      ]
     },
     "execution_count": 6,
     "metadata": {},
     "output_type": "execute_result"
    }
   ],
   "source": [
    "trash.trash_hauler.value_counts().to_frame()"
   ]
  },
  {
   "cell_type": "markdown",
   "id": "b649010f-94e8-4a75-b4ca-3f8e7606e55f",
   "metadata": {},
   "source": [
    "# *** missed_pu"
   ]
  },
  {
   "cell_type": "code",
   "execution_count": 8,
   "id": "4ea010ba-c41b-448e-8665-12e65a150b27",
   "metadata": {
    "scrolled": true
   },
   "outputs": [],
   "source": [
    "missed_pu = trash.loc[trash['request'].str.contains(\"Missed Pickup\")]"
   ]
  },
  {
   "cell_type": "code",
   "execution_count": 9,
   "id": "429d12b6-fe38-4a13-beb1-788c3e55f515",
   "metadata": {},
   "outputs": [
    {
     "data": {
      "text/html": [
       "<div>\n",
       "<style scoped>\n",
       "    .dataframe tbody tr th:only-of-type {\n",
       "        vertical-align: middle;\n",
       "    }\n",
       "\n",
       "    .dataframe tbody tr th {\n",
       "        vertical-align: top;\n",
       "    }\n",
       "\n",
       "    .dataframe thead th {\n",
       "        text-align: right;\n",
       "    }\n",
       "</style>\n",
       "<table border=\"1\" class=\"dataframe\">\n",
       "  <thead>\n",
       "    <tr style=\"text-align: right;\">\n",
       "      <th></th>\n",
       "      <th>request_number</th>\n",
       "      <th>date_opened</th>\n",
       "      <th>request</th>\n",
       "      <th>description</th>\n",
       "      <th>incident_address</th>\n",
       "      <th>zipcode</th>\n",
       "      <th>trash_hauler</th>\n",
       "      <th>trash_route</th>\n",
       "      <th>council_district</th>\n",
       "      <th>state_plan_x</th>\n",
       "      <th>state_plan_y</th>\n",
       "    </tr>\n",
       "  </thead>\n",
       "  <tbody>\n",
       "    <tr>\n",
       "      <th>1</th>\n",
       "      <td>25274</td>\n",
       "      <td>11/01/17</td>\n",
       "      <td>Trash - Curbside/Alley Missed Pickup</td>\n",
       "      <td>curb/trash miss tuesday.</td>\n",
       "      <td>4028 Clarksville Pike</td>\n",
       "      <td>37218.0</td>\n",
       "      <td>Red River</td>\n",
       "      <td>4202</td>\n",
       "      <td>1.0</td>\n",
       "      <td>1.721259e+06</td>\n",
       "      <td>685444.799565</td>\n",
       "    </tr>\n",
       "    <tr>\n",
       "      <th>2</th>\n",
       "      <td>25276</td>\n",
       "      <td>11/01/17</td>\n",
       "      <td>Trash - Curbside/Alley Missed Pickup</td>\n",
       "      <td>curb/trash miss tuesday.</td>\n",
       "      <td>6528 Thunderbird Dr</td>\n",
       "      <td>37209.0</td>\n",
       "      <td>Red River</td>\n",
       "      <td>4205</td>\n",
       "      <td>20.0</td>\n",
       "      <td>1.707027e+06</td>\n",
       "      <td>659887.471571</td>\n",
       "    </tr>\n",
       "    <tr>\n",
       "      <th>3</th>\n",
       "      <td>25307</td>\n",
       "      <td>11/01/17</td>\n",
       "      <td>Trash - Curbside/Alley Missed Pickup</td>\n",
       "      <td>missed</td>\n",
       "      <td>2603 Old Matthews Rd</td>\n",
       "      <td>37207.0</td>\n",
       "      <td>Waste Ind</td>\n",
       "      <td>2206</td>\n",
       "      <td>2.0</td>\n",
       "      <td>1.735692e+06</td>\n",
       "      <td>685027.245923</td>\n",
       "    </tr>\n",
       "    <tr>\n",
       "      <th>4</th>\n",
       "      <td>25312</td>\n",
       "      <td>11/01/17</td>\n",
       "      <td>Trash - Curbside/Alley Missed Pickup</td>\n",
       "      <td>missed the even side of the road.</td>\n",
       "      <td>604 Croley Dr</td>\n",
       "      <td>37209.0</td>\n",
       "      <td>Red River</td>\n",
       "      <td>4203</td>\n",
       "      <td>20.0</td>\n",
       "      <td>1.710186e+06</td>\n",
       "      <td>664205.101066</td>\n",
       "    </tr>\n",
       "    <tr>\n",
       "      <th>8</th>\n",
       "      <td>25330</td>\n",
       "      <td>11/01/17</td>\n",
       "      <td>Trash - Curbside/Alley Missed Pickup</td>\n",
       "      <td>missed.</td>\n",
       "      <td>4484 Lavergne Couchville Pike</td>\n",
       "      <td>37013.0</td>\n",
       "      <td>Red River</td>\n",
       "      <td>4210</td>\n",
       "      <td>33.0</td>\n",
       "      <td>1.794534e+06</td>\n",
       "      <td>618749.342732</td>\n",
       "    </tr>\n",
       "  </tbody>\n",
       "</table>\n",
       "</div>"
      ],
      "text/plain": [
       "   request_number date_opened                               request  \\\n",
       "1           25274    11/01/17  Trash - Curbside/Alley Missed Pickup   \n",
       "2           25276    11/01/17  Trash - Curbside/Alley Missed Pickup   \n",
       "3           25307    11/01/17  Trash - Curbside/Alley Missed Pickup   \n",
       "4           25312    11/01/17  Trash - Curbside/Alley Missed Pickup   \n",
       "8           25330    11/01/17  Trash - Curbside/Alley Missed Pickup   \n",
       "\n",
       "                         description               incident_address  zipcode  \\\n",
       "1           curb/trash miss tuesday.          4028 Clarksville Pike  37218.0   \n",
       "2           curb/trash miss tuesday.            6528 Thunderbird Dr  37209.0   \n",
       "3                             missed           2603 Old Matthews Rd  37207.0   \n",
       "4  missed the even side of the road.                  604 Croley Dr  37209.0   \n",
       "8                            missed.  4484 Lavergne Couchville Pike  37013.0   \n",
       "\n",
       "  trash_hauler trash_route  council_district  state_plan_x   state_plan_y  \n",
       "1    Red River        4202               1.0  1.721259e+06  685444.799565  \n",
       "2    Red River        4205              20.0  1.707027e+06  659887.471571  \n",
       "3    Waste Ind        2206               2.0  1.735692e+06  685027.245923  \n",
       "4    Red River        4203              20.0  1.710186e+06  664205.101066  \n",
       "8    Red River        4210              33.0  1.794534e+06  618749.342732  "
      ]
     },
     "execution_count": 9,
     "metadata": {},
     "output_type": "execute_result"
    }
   ],
   "source": [
    "missed_pu.head()"
   ]
  },
  {
   "cell_type": "code",
   "execution_count": 10,
   "id": "cba4b3a1-57db-4bad-8a46-e7878734996e",
   "metadata": {
    "scrolled": true
   },
   "outputs": [
    {
     "data": {
      "text/html": [
       "<div>\n",
       "<style scoped>\n",
       "    .dataframe tbody tr th:only-of-type {\n",
       "        vertical-align: middle;\n",
       "    }\n",
       "\n",
       "    .dataframe tbody tr th {\n",
       "        vertical-align: top;\n",
       "    }\n",
       "\n",
       "    .dataframe thead th {\n",
       "        text-align: right;\n",
       "    }\n",
       "</style>\n",
       "<table border=\"1\" class=\"dataframe\">\n",
       "  <thead>\n",
       "    <tr style=\"text-align: right;\">\n",
       "      <th></th>\n",
       "      <th>request</th>\n",
       "      <th>count</th>\n",
       "    </tr>\n",
       "  </thead>\n",
       "  <tbody>\n",
       "    <tr>\n",
       "      <th>0</th>\n",
       "      <td>Trash - Curbside/Alley Missed Pickup</td>\n",
       "      <td>15028</td>\n",
       "    </tr>\n",
       "    <tr>\n",
       "      <th>1</th>\n",
       "      <td>Trash - Backdoor</td>\n",
       "      <td>2629</td>\n",
       "    </tr>\n",
       "    <tr>\n",
       "      <th>2</th>\n",
       "      <td>Trash Collection Complaint</td>\n",
       "      <td>2312</td>\n",
       "    </tr>\n",
       "    <tr>\n",
       "      <th>3</th>\n",
       "      <td>Damage to Property</td>\n",
       "      <td>257</td>\n",
       "    </tr>\n",
       "  </tbody>\n",
       "</table>\n",
       "</div>"
      ],
      "text/plain": [
       "                                request  count\n",
       "0  Trash - Curbside/Alley Missed Pickup  15028\n",
       "1                      Trash - Backdoor   2629\n",
       "2            Trash Collection Complaint   2312\n",
       "3                    Damage to Property    257"
      ]
     },
     "execution_count": 10,
     "metadata": {},
     "output_type": "execute_result"
    }
   ],
   "source": [
    "trash.request.value_counts().to_frame().reset_index()"
   ]
  },
  {
   "cell_type": "markdown",
   "id": "56ed59a6-7d23-4412-a39a-bda5cacc0b35",
   "metadata": {},
   "source": [
    "# *** trash_complaints"
   ]
  },
  {
   "cell_type": "code",
   "execution_count": 12,
   "id": "c5b0d170-8358-4957-86e0-0d5ee4f4c3cd",
   "metadata": {},
   "outputs": [],
   "source": [
    "trash_complaints = trash.loc[trash['request'] == \"Trash Collection Complaint\"]"
   ]
  },
  {
   "cell_type": "markdown",
   "id": "ccaf30ce-9bc6-4c9b-a307-95da54211397",
   "metadata": {},
   "source": [
    "# *** missed_pu_2"
   ]
  },
  {
   "cell_type": "code",
   "execution_count": 14,
   "id": "fd5d0fbe-4ebc-47e8-9d7c-c317410146d7",
   "metadata": {
    "scrolled": true
   },
   "outputs": [],
   "source": [
    "missed_pu_2= trash.loc[~trash['request'].str.contains('Missed Pickup')]"
   ]
  },
  {
   "cell_type": "code",
   "execution_count": 15,
   "id": "a30e440a-110c-46da-8526-8eec69624ad1",
   "metadata": {},
   "outputs": [
    {
     "data": {
      "text/html": [
       "<div>\n",
       "<style scoped>\n",
       "    .dataframe tbody tr th:only-of-type {\n",
       "        vertical-align: middle;\n",
       "    }\n",
       "\n",
       "    .dataframe tbody tr th {\n",
       "        vertical-align: top;\n",
       "    }\n",
       "\n",
       "    .dataframe thead th {\n",
       "        text-align: right;\n",
       "    }\n",
       "</style>\n",
       "<table border=\"1\" class=\"dataframe\">\n",
       "  <thead>\n",
       "    <tr style=\"text-align: right;\">\n",
       "      <th></th>\n",
       "      <th>request_number</th>\n",
       "      <th>date_opened</th>\n",
       "      <th>request</th>\n",
       "      <th>description</th>\n",
       "      <th>incident_address</th>\n",
       "      <th>zipcode</th>\n",
       "      <th>trash_hauler</th>\n",
       "      <th>trash_route</th>\n",
       "      <th>council_district</th>\n",
       "      <th>state_plan_x</th>\n",
       "      <th>state_plan_y</th>\n",
       "    </tr>\n",
       "  </thead>\n",
       "  <tbody>\n",
       "    <tr>\n",
       "      <th>0</th>\n",
       "      <td>25270</td>\n",
       "      <td>11/01/17</td>\n",
       "      <td>Trash - Backdoor</td>\n",
       "      <td>house with the wheel chair ramp, they share dr...</td>\n",
       "      <td>3817 Crouch Dr</td>\n",
       "      <td>37207.0</td>\n",
       "      <td>Red River</td>\n",
       "      <td>3205</td>\n",
       "      <td>2.0</td>\n",
       "      <td>1.727970e+06</td>\n",
       "      <td>686779.478089</td>\n",
       "    </tr>\n",
       "    <tr>\n",
       "      <th>5</th>\n",
       "      <td>25317</td>\n",
       "      <td>11/01/17</td>\n",
       "      <td>Trash Collection Complaint</td>\n",
       "      <td>left trash cart in middle of driveway instead ...</td>\n",
       "      <td>3602 Floral Dr</td>\n",
       "      <td>37211.0</td>\n",
       "      <td>Red River</td>\n",
       "      <td>4304</td>\n",
       "      <td>16.0</td>\n",
       "      <td>1.751660e+06</td>\n",
       "      <td>643215.201073</td>\n",
       "    </tr>\n",
       "    <tr>\n",
       "      <th>6</th>\n",
       "      <td>25325</td>\n",
       "      <td>11/01/17</td>\n",
       "      <td>Damage to Property</td>\n",
       "      <td>trash/emptied wednesday &amp; now metal black-mail...</td>\n",
       "      <td>4721 Chalmers Dr</td>\n",
       "      <td>37215.0</td>\n",
       "      <td>Red River</td>\n",
       "      <td>3303</td>\n",
       "      <td>34.0</td>\n",
       "      <td>1.726301e+06</td>\n",
       "      <td>637078.402245</td>\n",
       "    </tr>\n",
       "    <tr>\n",
       "      <th>7</th>\n",
       "      <td>25327</td>\n",
       "      <td>11/01/17</td>\n",
       "      <td>Trash Collection Complaint</td>\n",
       "      <td>trash out on time, miss again tuesday. alley</td>\n",
       "      <td>1816 Jo Johnston Ave</td>\n",
       "      <td>37203.0</td>\n",
       "      <td>Metro</td>\n",
       "      <td>9208</td>\n",
       "      <td>21.0</td>\n",
       "      <td>1.731459e+06</td>\n",
       "      <td>666013.601229</td>\n",
       "    </tr>\n",
       "    <tr>\n",
       "      <th>11</th>\n",
       "      <td>25350</td>\n",
       "      <td>11/01/17</td>\n",
       "      <td>Trash Collection Complaint</td>\n",
       "      <td>missed- 4th week in a row.</td>\n",
       "      <td>3210 Whites Creek Pike</td>\n",
       "      <td>37207.0</td>\n",
       "      <td>Red River</td>\n",
       "      <td>3201</td>\n",
       "      <td>3.0</td>\n",
       "      <td>1.726433e+06</td>\n",
       "      <td>691919.200296</td>\n",
       "    </tr>\n",
       "  </tbody>\n",
       "</table>\n",
       "</div>"
      ],
      "text/plain": [
       "    request_number date_opened                     request  \\\n",
       "0            25270    11/01/17            Trash - Backdoor   \n",
       "5            25317    11/01/17  Trash Collection Complaint   \n",
       "6            25325    11/01/17          Damage to Property   \n",
       "7            25327    11/01/17  Trash Collection Complaint   \n",
       "11           25350    11/01/17  Trash Collection Complaint   \n",
       "\n",
       "                                          description        incident_address  \\\n",
       "0   house with the wheel chair ramp, they share dr...          3817 Crouch Dr   \n",
       "5   left trash cart in middle of driveway instead ...          3602 Floral Dr   \n",
       "6   trash/emptied wednesday & now metal black-mail...        4721 Chalmers Dr   \n",
       "7        trash out on time, miss again tuesday. alley    1816 Jo Johnston Ave   \n",
       "11                         missed- 4th week in a row.  3210 Whites Creek Pike   \n",
       "\n",
       "    zipcode trash_hauler trash_route  council_district  state_plan_x  \\\n",
       "0   37207.0    Red River        3205               2.0  1.727970e+06   \n",
       "5   37211.0    Red River        4304              16.0  1.751660e+06   \n",
       "6   37215.0    Red River        3303              34.0  1.726301e+06   \n",
       "7   37203.0        Metro        9208              21.0  1.731459e+06   \n",
       "11  37207.0    Red River        3201               3.0  1.726433e+06   \n",
       "\n",
       "     state_plan_y  \n",
       "0   686779.478089  \n",
       "5   643215.201073  \n",
       "6   637078.402245  \n",
       "7   666013.601229  \n",
       "11  691919.200296  "
      ]
     },
     "execution_count": 15,
     "metadata": {},
     "output_type": "execute_result"
    }
   ],
   "source": [
    "missed_pu_2.head()"
   ]
  },
  {
   "cell_type": "code",
   "execution_count": 16,
   "id": "85c16b25-a020-4284-9364-8eb52ed5d75c",
   "metadata": {},
   "outputs": [],
   "source": [
    "missed_pu_2 = missed_pu_2.dropna(subset = 'description') "
   ]
  },
  {
   "cell_type": "code",
   "execution_count": 17,
   "id": "da43d0cb-ec46-443f-8194-a98782fd7e4e",
   "metadata": {},
   "outputs": [
    {
     "name": "stdout",
     "output_type": "stream",
     "text": [
      "<class 'pandas.core.frame.DataFrame'>\n",
      "Index: 5196 entries, 0 to 20218\n",
      "Data columns (total 11 columns):\n",
      " #   Column            Non-Null Count  Dtype  \n",
      "---  ------            --------------  -----  \n",
      " 0   request_number    5196 non-null   int64  \n",
      " 1   date_opened       5196 non-null   object \n",
      " 2   request           5196 non-null   object \n",
      " 3   description       5196 non-null   object \n",
      " 4   incident_address  5195 non-null   object \n",
      " 5   zipcode           5177 non-null   float64\n",
      " 6   trash_hauler      4902 non-null   object \n",
      " 7   trash_route       4873 non-null   object \n",
      " 8   council_district  5184 non-null   float64\n",
      " 9   state_plan_x      5189 non-null   float64\n",
      " 10  state_plan_y      5189 non-null   float64\n",
      "dtypes: float64(4), int64(1), object(6)\n",
      "memory usage: 487.1+ KB\n"
     ]
    }
   ],
   "source": [
    "missed_pu_2.info()"
   ]
  },
  {
   "cell_type": "code",
   "execution_count": 18,
   "id": "121d5019-03e0-4dcb-a9bc-d248ec368e1d",
   "metadata": {},
   "outputs": [],
   "source": [
    "missed_pu_2 = missed_pu_2.loc[missed_pu_2['description'].str.contains('miss|missed|left')]"
   ]
  },
  {
   "cell_type": "code",
   "execution_count": 19,
   "id": "441a176b-0937-4904-b4b9-3965236bfb6c",
   "metadata": {},
   "outputs": [
    {
     "data": {
      "text/plain": [
       "15028"
      ]
     },
     "execution_count": 19,
     "metadata": {},
     "output_type": "execute_result"
    }
   ],
   "source": [
    "missed_pu.request_number.nunique()"
   ]
  },
  {
   "cell_type": "code",
   "execution_count": 20,
   "id": "33866572-175a-4029-a8ad-e54e8b43241b",
   "metadata": {},
   "outputs": [
    {
     "name": "stdout",
     "output_type": "stream",
     "text": [
      "The two DataFrames are not equal\n"
     ]
    }
   ],
   "source": [
    "if missed_pu['request_number'].equals(missed_pu_2['request_number']):\n",
    "        print(\"The two DataFrames are equal\") \n",
    "else:\n",
    "    print(\"The two DataFrames are not equal\")"
   ]
  },
  {
   "cell_type": "code",
   "execution_count": 21,
   "id": "ed99bd07-74d6-4660-91ea-141b08c3b323",
   "metadata": {},
   "outputs": [],
   "source": [
    "all_missed_pickups = pd.concat([missed_pu,missed_pu_2])  "
   ]
  },
  {
   "cell_type": "code",
   "execution_count": 22,
   "id": "0f98510d-cbd1-42b1-b466-3b2195c07681",
   "metadata": {},
   "outputs": [
    {
     "data": {
      "text/html": [
       "<div>\n",
       "<style scoped>\n",
       "    .dataframe tbody tr th:only-of-type {\n",
       "        vertical-align: middle;\n",
       "    }\n",
       "\n",
       "    .dataframe tbody tr th {\n",
       "        vertical-align: top;\n",
       "    }\n",
       "\n",
       "    .dataframe thead th {\n",
       "        text-align: right;\n",
       "    }\n",
       "</style>\n",
       "<table border=\"1\" class=\"dataframe\">\n",
       "  <thead>\n",
       "    <tr style=\"text-align: right;\">\n",
       "      <th></th>\n",
       "      <th>count</th>\n",
       "    </tr>\n",
       "    <tr>\n",
       "      <th>description</th>\n",
       "      <th></th>\n",
       "    </tr>\n",
       "  </thead>\n",
       "  <tbody>\n",
       "    <tr>\n",
       "      <th>miss</th>\n",
       "      <td>907</td>\n",
       "    </tr>\n",
       "    <tr>\n",
       "      <th>missed</th>\n",
       "      <td>633</td>\n",
       "    </tr>\n",
       "    <tr>\n",
       "      <th>missed.</th>\n",
       "      <td>622</td>\n",
       "    </tr>\n",
       "    <tr>\n",
       "      <th>cart still out</th>\n",
       "      <td>289</td>\n",
       "    </tr>\n",
       "    <tr>\n",
       "      <th>1 cart</th>\n",
       "      <td>229</td>\n",
       "    </tr>\n",
       "    <tr>\n",
       "      <th>...</th>\n",
       "      <td>...</td>\n",
       "    </tr>\n",
       "    <tr>\n",
       "      <th>it looks as if other neighbors had their trash picked up but somehow ours was missed today. we appreciate the good service from the trash collectors.</th>\n",
       "      <td>1</td>\n",
       "    </tr>\n",
       "    <tr>\n",
       "      <th>it looks like a bag was taken off the top, but the rest was left in the can. i need it emptied asap.</th>\n",
       "      <td>1</td>\n",
       "    </tr>\n",
       "    <tr>\n",
       "      <th>it looks like all of lombardy ave was missed for trash pickup</th>\n",
       "      <td>1</td>\n",
       "    </tr>\n",
       "    <tr>\n",
       "      <th>it looks like all of lombardy trash pickup was missed. this is the 2nd week in a row</th>\n",
       "      <td>1</td>\n",
       "    </tr>\n",
       "    <tr>\n",
       "      <th>{trash} thursday/curb missed</th>\n",
       "      <td>1</td>\n",
       "    </tr>\n",
       "  </tbody>\n",
       "</table>\n",
       "<p>10744 rows × 1 columns</p>\n",
       "</div>"
      ],
      "text/plain": [
       "                                                    count\n",
       "description                                              \n",
       "miss                                                  907\n",
       "missed                                                633\n",
       "missed.                                               622\n",
       "cart still out                                        289\n",
       "1 cart                                                229\n",
       "...                                                   ...\n",
       "it looks as if other neighbors had their trash ...      1\n",
       "it looks like a bag was taken off the top, but ...      1\n",
       "it looks like all of lombardy ave was missed fo...      1\n",
       "it looks like all of lombardy trash pickup was ...      1\n",
       "{trash} thursday/curb missed                            1\n",
       "\n",
       "[10744 rows x 1 columns]"
      ]
     },
     "execution_count": 22,
     "metadata": {},
     "output_type": "execute_result"
    }
   ],
   "source": [
    "all_missed_pickups.value_counts('description').to_frame()"
   ]
  },
  {
   "cell_type": "markdown",
   "id": "e32cdb13-f1a8-4ecc-ad74-899741cabb78",
   "metadata": {},
   "source": [
    "# *** red_river"
   ]
  },
  {
   "cell_type": "code",
   "execution_count": 24,
   "id": "2e19b54f-85d7-42be-a0b7-5e74ce5c7707",
   "metadata": {},
   "outputs": [],
   "source": [
    "red_river = all_missed_pickups.loc[all_missed_pickups['trash_hauler'] == 'Red River']"
   ]
  },
  {
   "cell_type": "code",
   "execution_count": 25,
   "id": "b3c4b263-7260-4cb5-b50e-225475a28fbd",
   "metadata": {
    "scrolled": true
   },
   "outputs": [
    {
     "data": {
      "text/plain": [
       "1        37218.0\n",
       "2        37209.0\n",
       "4        37209.0\n",
       "8        37013.0\n",
       "10       37218.0\n",
       "          ...   \n",
       "20167    37218.0\n",
       "20169    37218.0\n",
       "20178    37204.0\n",
       "20179    37013.0\n",
       "20202    37214.0\n",
       "Name: zipcode, Length: 12990, dtype: float64"
      ]
     },
     "execution_count": 25,
     "metadata": {},
     "output_type": "execute_result"
    }
   ],
   "source": [
    "red_river['zipcode'].dropna()"
   ]
  },
  {
   "cell_type": "markdown",
   "id": "0554fc95-a610-4ef1-82fe-2af778e50cd5",
   "metadata": {},
   "source": [
    "# *** red_river2"
   ]
  },
  {
   "cell_type": "code",
   "execution_count": 27,
   "id": "a4da5136-cc62-414a-8216-8f9e88ca9839",
   "metadata": {
    "scrolled": true
   },
   "outputs": [],
   "source": [
    "red_river2 = red_river.incident_address.value_counts().to_frame().reset_index()"
   ]
  },
  {
   "cell_type": "code",
   "execution_count": 28,
   "id": "6207848f-41e1-48e8-b1ed-0e546ad38c30",
   "metadata": {},
   "outputs": [
    {
     "data": {
      "text/html": [
       "<div>\n",
       "<style scoped>\n",
       "    .dataframe tbody tr th:only-of-type {\n",
       "        vertical-align: middle;\n",
       "    }\n",
       "\n",
       "    .dataframe tbody tr th {\n",
       "        vertical-align: top;\n",
       "    }\n",
       "\n",
       "    .dataframe thead th {\n",
       "        text-align: right;\n",
       "    }\n",
       "</style>\n",
       "<table border=\"1\" class=\"dataframe\">\n",
       "  <thead>\n",
       "    <tr style=\"text-align: right;\">\n",
       "      <th></th>\n",
       "      <th>incident_address</th>\n",
       "      <th>count</th>\n",
       "    </tr>\n",
       "  </thead>\n",
       "  <tbody>\n",
       "    <tr>\n",
       "      <th>0</th>\n",
       "      <td>12546 Old Hickory Blvd, Nashville, Tn 37013, U...</td>\n",
       "      <td>19</td>\n",
       "    </tr>\n",
       "    <tr>\n",
       "      <th>1</th>\n",
       "      <td>3710 N Natchez Ct</td>\n",
       "      <td>18</td>\n",
       "    </tr>\n",
       "    <tr>\n",
       "      <th>2</th>\n",
       "      <td>6007 Obrien Ave, Nashville, Tn 37209, United S...</td>\n",
       "      <td>18</td>\n",
       "    </tr>\n",
       "    <tr>\n",
       "      <th>3</th>\n",
       "      <td>5135 Hickory Hollow Pkwy</td>\n",
       "      <td>18</td>\n",
       "    </tr>\n",
       "    <tr>\n",
       "      <th>4</th>\n",
       "      <td>802 Crescent Rd, Nashville, Tn 37205, United S...</td>\n",
       "      <td>17</td>\n",
       "    </tr>\n",
       "    <tr>\n",
       "      <th>...</th>\n",
       "      <td>...</td>\n",
       "      <td>...</td>\n",
       "    </tr>\n",
       "    <tr>\n",
       "      <th>9168</th>\n",
       "      <td>745 Newberry Rd, Nashville, Tn 37205, United S...</td>\n",
       "      <td>1</td>\n",
       "    </tr>\n",
       "    <tr>\n",
       "      <th>9169</th>\n",
       "      <td>708 Milbridge Ct</td>\n",
       "      <td>1</td>\n",
       "    </tr>\n",
       "    <tr>\n",
       "      <th>9170</th>\n",
       "      <td>411 Woodmont Hall Pl, Nashville, Tn 37205, Uni...</td>\n",
       "      <td>1</td>\n",
       "    </tr>\n",
       "    <tr>\n",
       "      <th>9171</th>\n",
       "      <td>2801 Valley Rd, Nashville, Tn 37215, United St...</td>\n",
       "      <td>1</td>\n",
       "    </tr>\n",
       "    <tr>\n",
       "      <th>9172</th>\n",
       "      <td>3110 Lebanon Rd, Lebanon, Tn 37087, United States</td>\n",
       "      <td>1</td>\n",
       "    </tr>\n",
       "  </tbody>\n",
       "</table>\n",
       "<p>9173 rows × 2 columns</p>\n",
       "</div>"
      ],
      "text/plain": [
       "                                       incident_address  count\n",
       "0     12546 Old Hickory Blvd, Nashville, Tn 37013, U...     19\n",
       "1                                     3710 N Natchez Ct     18\n",
       "2     6007 Obrien Ave, Nashville, Tn 37209, United S...     18\n",
       "3                              5135 Hickory Hollow Pkwy     18\n",
       "4     802 Crescent Rd, Nashville, Tn 37205, United S...     17\n",
       "...                                                 ...    ...\n",
       "9168  745 Newberry Rd, Nashville, Tn 37205, United S...      1\n",
       "9169                                   708 Milbridge Ct      1\n",
       "9170  411 Woodmont Hall Pl, Nashville, Tn 37205, Uni...      1\n",
       "9171  2801 Valley Rd, Nashville, Tn 37215, United St...      1\n",
       "9172  3110 Lebanon Rd, Lebanon, Tn 37087, United States      1\n",
       "\n",
       "[9173 rows x 2 columns]"
      ]
     },
     "execution_count": 28,
     "metadata": {},
     "output_type": "execute_result"
    }
   ],
   "source": [
    "red_river2"
   ]
  },
  {
   "cell_type": "markdown",
   "id": "678a6050-e377-4a75-98f9-cf9ae337dcba",
   "metadata": {},
   "source": [
    "# How much was each trash hauler fined for missed pickups?"
   ]
  },
  {
   "cell_type": "code",
   "execution_count": 30,
   "id": "1bec00c1-a27b-4ac9-b547-61df7784bbb9",
   "metadata": {},
   "outputs": [],
   "source": [
    "all_missed_pickups_by_trash_hauler = all_missed_pickups['trash_hauler'].value_counts()"
   ]
  },
  {
   "cell_type": "code",
   "execution_count": 31,
   "id": "5422278e-7c50-4ac2-9e9c-2cc22af2f8a7",
   "metadata": {},
   "outputs": [
    {
     "data": {
      "text/plain": [
       "<bound method Series.info of trash_hauler\n",
       "Red River    13018\n",
       "Metro         3151\n",
       "Waste Ind     1174\n",
       "Name: count, dtype: int64>"
      ]
     },
     "execution_count": 31,
     "metadata": {},
     "output_type": "execute_result"
    }
   ],
   "source": [
    "all_missed_pickups_by_trash_hauler.info"
   ]
  },
  {
   "cell_type": "code",
   "execution_count": 32,
   "id": "0571475f-7c72-4d9b-854e-7de7cf92290b",
   "metadata": {},
   "outputs": [],
   "source": [
    "all_missed_pickups_by_trash_hauler = pd.DataFrame(all_missed_pickups_by_trash_hauler)"
   ]
  },
  {
   "cell_type": "code",
   "execution_count": 33,
   "id": "6564e598-3b30-4b8b-8917-245a75371988",
   "metadata": {},
   "outputs": [
    {
     "data": {
      "text/html": [
       "<div>\n",
       "<style scoped>\n",
       "    .dataframe tbody tr th:only-of-type {\n",
       "        vertical-align: middle;\n",
       "    }\n",
       "\n",
       "    .dataframe tbody tr th {\n",
       "        vertical-align: top;\n",
       "    }\n",
       "\n",
       "    .dataframe thead th {\n",
       "        text-align: right;\n",
       "    }\n",
       "</style>\n",
       "<table border=\"1\" class=\"dataframe\">\n",
       "  <thead>\n",
       "    <tr style=\"text-align: right;\">\n",
       "      <th></th>\n",
       "      <th>count</th>\n",
       "    </tr>\n",
       "    <tr>\n",
       "      <th>trash_hauler</th>\n",
       "      <th></th>\n",
       "    </tr>\n",
       "  </thead>\n",
       "  <tbody>\n",
       "    <tr>\n",
       "      <th>Red River</th>\n",
       "      <td>13018</td>\n",
       "    </tr>\n",
       "    <tr>\n",
       "      <th>Metro</th>\n",
       "      <td>3151</td>\n",
       "    </tr>\n",
       "    <tr>\n",
       "      <th>Waste Ind</th>\n",
       "      <td>1174</td>\n",
       "    </tr>\n",
       "  </tbody>\n",
       "</table>\n",
       "</div>"
      ],
      "text/plain": [
       "              count\n",
       "trash_hauler       \n",
       "Red River     13018\n",
       "Metro          3151\n",
       "Waste Ind      1174"
      ]
     },
     "execution_count": 33,
     "metadata": {},
     "output_type": "execute_result"
    }
   ],
   "source": [
    "all_missed_pickups_by_trash_hauler"
   ]
  },
  {
   "cell_type": "code",
   "execution_count": 34,
   "id": "c55f14d4-e67a-4f9f-860a-5a10c1267f1d",
   "metadata": {},
   "outputs": [],
   "source": [
    "all_missed_pickups_by_trash_hauler['fines_total'] = all_missed_pickups_by_trash_hauler['count'] * 200"
   ]
  },
  {
   "cell_type": "code",
   "execution_count": 35,
   "id": "1aafcf68-d7ba-47bc-ba2a-a4804b1a7a85",
   "metadata": {},
   "outputs": [
    {
     "data": {
      "text/html": [
       "<div>\n",
       "<style scoped>\n",
       "    .dataframe tbody tr th:only-of-type {\n",
       "        vertical-align: middle;\n",
       "    }\n",
       "\n",
       "    .dataframe tbody tr th {\n",
       "        vertical-align: top;\n",
       "    }\n",
       "\n",
       "    .dataframe thead th {\n",
       "        text-align: right;\n",
       "    }\n",
       "</style>\n",
       "<table border=\"1\" class=\"dataframe\">\n",
       "  <thead>\n",
       "    <tr style=\"text-align: right;\">\n",
       "      <th></th>\n",
       "      <th>count</th>\n",
       "      <th>fines_total</th>\n",
       "    </tr>\n",
       "    <tr>\n",
       "      <th>trash_hauler</th>\n",
       "      <th></th>\n",
       "      <th></th>\n",
       "    </tr>\n",
       "  </thead>\n",
       "  <tbody>\n",
       "    <tr>\n",
       "      <th>Red River</th>\n",
       "      <td>13018</td>\n",
       "      <td>2603600</td>\n",
       "    </tr>\n",
       "    <tr>\n",
       "      <th>Metro</th>\n",
       "      <td>3151</td>\n",
       "      <td>630200</td>\n",
       "    </tr>\n",
       "    <tr>\n",
       "      <th>Waste Ind</th>\n",
       "      <td>1174</td>\n",
       "      <td>234800</td>\n",
       "    </tr>\n",
       "  </tbody>\n",
       "</table>\n",
       "</div>"
      ],
      "text/plain": [
       "              count  fines_total\n",
       "trash_hauler                    \n",
       "Red River     13018      2603600\n",
       "Metro          3151       630200\n",
       "Waste Ind      1174       234800"
      ]
     },
     "execution_count": 35,
     "metadata": {},
     "output_type": "execute_result"
    }
   ],
   "source": [
    "# ANSWER:\n",
    "\n",
    "all_missed_pickups_by_trash_hauler"
   ]
  },
  {
   "cell_type": "markdown",
   "id": "b666ed14-507d-4f72-a1d1-f4a9929b3230",
   "metadata": {},
   "source": [
    "# What routes had the most missed pickups?"
   ]
  },
  {
   "cell_type": "code",
   "execution_count": 37,
   "id": "c016b666-c407-4a44-b5b5-781c3b33251a",
   "metadata": {},
   "outputs": [
    {
     "data": {
      "text/plain": [
       "trash_route\n",
       "4504    333\n",
       "3302    292\n",
       "4404    258\n",
       "9303    249\n",
       "4304    244\n",
       "Name: count, dtype: int64"
      ]
     },
     "execution_count": 37,
     "metadata": {},
     "output_type": "execute_result"
    }
   ],
   "source": [
    "all_missed_pickups['trash_route'].value_counts().head()"
   ]
  },
  {
   "cell_type": "code",
   "execution_count": 38,
   "id": "599c0abf-8a05-4cfe-98e1-095d8a8ae306",
   "metadata": {},
   "outputs": [],
   "source": [
    "amp_by_route = all_missed_pickups['trash_route'].value_counts().head(10)"
   ]
  },
  {
   "cell_type": "code",
   "execution_count": 39,
   "id": "3a47c271-9b1c-4a9f-bd0e-dace489ff9d1",
   "metadata": {},
   "outputs": [],
   "source": [
    "amp_by_route = pd.DataFrame(amp_by_route)"
   ]
  },
  {
   "cell_type": "markdown",
   "id": "4bd1d8b8-e886-4b4e-98eb-0407ca3b2daa",
   "metadata": {},
   "source": [
    "# ANSWER"
   ]
  },
  {
   "cell_type": "code",
   "execution_count": 41,
   "id": "b14322d7-0231-4f1f-aa8b-288ce5a03c2a",
   "metadata": {},
   "outputs": [
    {
     "data": {
      "text/html": [
       "<div>\n",
       "<style scoped>\n",
       "    .dataframe tbody tr th:only-of-type {\n",
       "        vertical-align: middle;\n",
       "    }\n",
       "\n",
       "    .dataframe tbody tr th {\n",
       "        vertical-align: top;\n",
       "    }\n",
       "\n",
       "    .dataframe thead th {\n",
       "        text-align: right;\n",
       "    }\n",
       "</style>\n",
       "<table border=\"1\" class=\"dataframe\">\n",
       "  <thead>\n",
       "    <tr style=\"text-align: right;\">\n",
       "      <th></th>\n",
       "      <th>count</th>\n",
       "    </tr>\n",
       "    <tr>\n",
       "      <th>trash_route</th>\n",
       "      <th></th>\n",
       "    </tr>\n",
       "  </thead>\n",
       "  <tbody>\n",
       "    <tr>\n",
       "      <th>4504</th>\n",
       "      <td>333</td>\n",
       "    </tr>\n",
       "    <tr>\n",
       "      <th>3302</th>\n",
       "      <td>292</td>\n",
       "    </tr>\n",
       "    <tr>\n",
       "      <th>4404</th>\n",
       "      <td>258</td>\n",
       "    </tr>\n",
       "    <tr>\n",
       "      <th>9303</th>\n",
       "      <td>249</td>\n",
       "    </tr>\n",
       "    <tr>\n",
       "      <th>4304</th>\n",
       "      <td>244</td>\n",
       "    </tr>\n",
       "  </tbody>\n",
       "</table>\n",
       "</div>"
      ],
      "text/plain": [
       "             count\n",
       "trash_route       \n",
       "4504           333\n",
       "3302           292\n",
       "4404           258\n",
       "9303           249\n",
       "4304           244"
      ]
     },
     "execution_count": 41,
     "metadata": {},
     "output_type": "execute_result"
    }
   ],
   "source": [
    "amp_by_route.head()"
   ]
  },
  {
   "cell_type": "markdown",
   "id": "716b5ced-a795-492a-9eaa-6785030fdc18",
   "metadata": {},
   "source": [
    "# What are the different complaint types and which one had the most?"
   ]
  },
  {
   "cell_type": "code",
   "execution_count": 43,
   "id": "1775d7c3-92fa-4840-8cb6-31f133444260",
   "metadata": {
    "scrolled": true
   },
   "outputs": [],
   "source": [
    "complaint_types_str = all_missed_pickups.value_counts('request')"
   ]
  },
  {
   "cell_type": "code",
   "execution_count": 44,
   "id": "8806d5b5-d5a3-4e1c-993c-e66d9b699ebc",
   "metadata": {},
   "outputs": [
    {
     "data": {
      "text/plain": [
       "request\n",
       "Trash - Curbside/Alley Missed Pickup    15028\n",
       "Trash - Backdoor                         2029\n",
       "Trash Collection Complaint               1035\n",
       "Damage to Property                         19\n",
       "Name: count, dtype: int64"
      ]
     },
     "execution_count": 44,
     "metadata": {},
     "output_type": "execute_result"
    }
   ],
   "source": [
    "complaint_types_str"
   ]
  },
  {
   "cell_type": "code",
   "execution_count": 45,
   "id": "1a1bd3ad-9035-43b8-a526-c56db80f4f15",
   "metadata": {},
   "outputs": [],
   "source": [
    "complaint_types = pd.DataFrame(complaint_types_str)"
   ]
  },
  {
   "cell_type": "markdown",
   "id": "190d51b0-0956-44e3-9c23-8c8c65abae14",
   "metadata": {},
   "source": [
    "# ANSWER"
   ]
  },
  {
   "cell_type": "code",
   "execution_count": 47,
   "id": "e4f85365-ad03-4844-8f61-9457b12a222a",
   "metadata": {},
   "outputs": [
    {
     "data": {
      "text/html": [
       "<div>\n",
       "<style scoped>\n",
       "    .dataframe tbody tr th:only-of-type {\n",
       "        vertical-align: middle;\n",
       "    }\n",
       "\n",
       "    .dataframe tbody tr th {\n",
       "        vertical-align: top;\n",
       "    }\n",
       "\n",
       "    .dataframe thead th {\n",
       "        text-align: right;\n",
       "    }\n",
       "</style>\n",
       "<table border=\"1\" class=\"dataframe\">\n",
       "  <thead>\n",
       "    <tr style=\"text-align: right;\">\n",
       "      <th></th>\n",
       "      <th>count</th>\n",
       "    </tr>\n",
       "    <tr>\n",
       "      <th>request</th>\n",
       "      <th></th>\n",
       "    </tr>\n",
       "  </thead>\n",
       "  <tbody>\n",
       "    <tr>\n",
       "      <th>Trash - Curbside/Alley Missed Pickup</th>\n",
       "      <td>15028</td>\n",
       "    </tr>\n",
       "    <tr>\n",
       "      <th>Trash - Backdoor</th>\n",
       "      <td>2029</td>\n",
       "    </tr>\n",
       "    <tr>\n",
       "      <th>Trash Collection Complaint</th>\n",
       "      <td>1035</td>\n",
       "    </tr>\n",
       "    <tr>\n",
       "      <th>Damage to Property</th>\n",
       "      <td>19</td>\n",
       "    </tr>\n",
       "  </tbody>\n",
       "</table>\n",
       "</div>"
      ],
      "text/plain": [
       "                                      count\n",
       "request                                    \n",
       "Trash - Curbside/Alley Missed Pickup  15028\n",
       "Trash - Backdoor                       2029\n",
       "Trash Collection Complaint             1035\n",
       "Damage to Property                       19"
      ]
     },
     "execution_count": 47,
     "metadata": {},
     "output_type": "execute_result"
    }
   ],
   "source": [
    "complaint_types"
   ]
  },
  {
   "cell_type": "code",
   "execution_count": 48,
   "id": "971e0603-4c25-4645-a9e0-c1b564205d12",
   "metadata": {},
   "outputs": [],
   "source": [
    "# Downloaded all_missed_pickups"
   ]
  },
  {
   "cell_type": "code",
   "execution_count": 49,
   "id": "3ba600d2-5e8b-4a88-9ca3-873bb94f9e09",
   "metadata": {},
   "outputs": [],
   "source": [
    "complaint_types.to_csv('complaint_types.csv')"
   ]
  },
  {
   "cell_type": "code",
   "execution_count": 50,
   "id": "8d14cfc5-cc94-4ff6-80c6-2b2df4040070",
   "metadata": {},
   "outputs": [],
   "source": [
    "all_missed_pickups['zipcode'] = all_missed_pickups['zipcode'].fillna(0)"
   ]
  },
  {
   "cell_type": "code",
   "execution_count": 51,
   "id": "fe52701e-7aef-4559-a979-dad6e533c722",
   "metadata": {},
   "outputs": [],
   "source": [
    "all_missed_pickups['zipcode'] = all_missed_pickups['zipcode'].astype(int)"
   ]
  },
  {
   "cell_type": "raw",
   "id": "a0898ad1-7ce4-4afa-87e2-dfbe05c88a4c",
   "metadata": {},
   "source": []
  },
  {
   "cell_type": "markdown",
   "id": "3c4b4556-f662-4d20-82cf-a529e09dcb8b",
   "metadata": {},
   "source": [
    "# What is causing route 4504 to have the most missed pickups?"
   ]
  },
  {
   "cell_type": "markdown",
   "id": "734dbde1-dab6-4c39-9fb1-f54f3a8a8e5b",
   "metadata": {},
   "source": [
    "# *** all_missed_route_4504"
   ]
  },
  {
   "cell_type": "code",
   "execution_count": 54,
   "id": "88b1d713-2430-4c63-ba31-bb0e6bc53982",
   "metadata": {},
   "outputs": [],
   "source": [
    "all_missed_route_4504 = all_missed_pickups.loc[all_missed_pickups['trash_route'] == '4504']"
   ]
  },
  {
   "cell_type": "code",
   "execution_count": 55,
   "id": "8030a760-f871-4b9a-aae2-30512ef7829d",
   "metadata": {},
   "outputs": [
    {
     "data": {
      "text/plain": [
       "count    209.000000\n",
       "mean       1.593301\n",
       "std        1.522950\n",
       "min        1.000000\n",
       "25%        1.000000\n",
       "50%        1.000000\n",
       "75%        2.000000\n",
       "max       18.000000\n",
       "Name: count, dtype: float64"
      ]
     },
     "execution_count": 55,
     "metadata": {},
     "output_type": "execute_result"
    }
   ],
   "source": [
    "# statistical info on value counts by address.\n",
    "\n",
    "all_missed_route_4504['incident_address'].value_counts().describe()"
   ]
  },
  {
   "cell_type": "code",
   "execution_count": 56,
   "id": "67da1791-42ad-423a-940f-895209ba8df0",
   "metadata": {},
   "outputs": [
    {
     "data": {
      "text/plain": [
       "count    12608.000000\n",
       "mean         1.435755\n",
       "std          1.120770\n",
       "min          1.000000\n",
       "25%          1.000000\n",
       "50%          1.000000\n",
       "75%          1.000000\n",
       "max         21.000000\n",
       "Name: count, dtype: float64"
      ]
     },
     "execution_count": 56,
     "metadata": {},
     "output_type": "execute_result"
    }
   ],
   "source": [
    "all_missed_pickups['incident_address'].value_counts().describe()"
   ]
  },
  {
   "cell_type": "markdown",
   "id": "78b240bb-fc54-44eb-8a8f-f21e1610e424",
   "metadata": {},
   "source": [
    "# *** all_missed_pickups_top_10_by_address"
   ]
  },
  {
   "cell_type": "code",
   "execution_count": 58,
   "id": "053b9f63-d18a-4d49-a82e-6ebd5caca992",
   "metadata": {},
   "outputs": [],
   "source": [
    "all_missed_pickups_top_10_by_address = all_missed_pickups['incident_address'].value_counts().head(10)"
   ]
  },
  {
   "cell_type": "code",
   "execution_count": 59,
   "id": "bc6ffb2a-06da-4e6d-aca1-a0ab117c788e",
   "metadata": {},
   "outputs": [
    {
     "data": {
      "text/plain": [
       "incident_address\n",
       "5135 Hickory Hollow Pkwy                                      21\n",
       "6007 Obrien Ave, Nashville, Tn 37209, United States           19\n",
       "3710 N Natchez Ct                                             19\n",
       "12546 Old Hickory Blvd, Nashville, Tn 37013, United States    19\n",
       "802 Crescent Rd, Nashville, Tn 37205, United States           18\n",
       "1816 Jo Johnston Ave, Nashville, Tn 37203, United States      16\n",
       "110 George L Davis Blvd                                       15\n",
       "607 Estes Rd, Nashville, Tn 37215, United States              15\n",
       "617 Kinsey Blvd                                               14\n",
       "320 Old Hickory Blvd, Nashville, Tn 37221, United States      13\n",
       "Name: count, dtype: int64"
      ]
     },
     "execution_count": 59,
     "metadata": {},
     "output_type": "execute_result"
    }
   ],
   "source": [
    "all_missed_pickups_top_10_by_address"
   ]
  },
  {
   "cell_type": "markdown",
   "id": "cc0eceb9-4abf-4d21-8f27-5fe1d2ef5c75",
   "metadata": {},
   "source": [
    "# All missed pickups by company and top address missed."
   ]
  },
  {
   "cell_type": "markdown",
   "id": "992d92ab-b714-4b2f-9866-c98044b8c7c2",
   "metadata": {},
   "source": [
    "# *** all_missed_red_river"
   ]
  },
  {
   "cell_type": "code",
   "execution_count": 62,
   "id": "e86078cd-07c0-49ad-b5de-0b7bf1d59fd5",
   "metadata": {},
   "outputs": [],
   "source": [
    "all_missed_red_river = all_missed_pickups.loc[all_missed_pickups['trash_hauler'] == 'Red River']"
   ]
  },
  {
   "cell_type": "code",
   "execution_count": 63,
   "id": "8d0dbeac-9029-4c7c-b870-6af52fc5dc32",
   "metadata": {},
   "outputs": [
    {
     "data": {
      "text/html": [
       "<div>\n",
       "<style scoped>\n",
       "    .dataframe tbody tr th:only-of-type {\n",
       "        vertical-align: middle;\n",
       "    }\n",
       "\n",
       "    .dataframe tbody tr th {\n",
       "        vertical-align: top;\n",
       "    }\n",
       "\n",
       "    .dataframe thead th {\n",
       "        text-align: right;\n",
       "    }\n",
       "</style>\n",
       "<table border=\"1\" class=\"dataframe\">\n",
       "  <thead>\n",
       "    <tr style=\"text-align: right;\">\n",
       "      <th></th>\n",
       "      <th>request_number</th>\n",
       "      <th>date_opened</th>\n",
       "      <th>request</th>\n",
       "      <th>description</th>\n",
       "      <th>incident_address</th>\n",
       "      <th>zipcode</th>\n",
       "      <th>trash_hauler</th>\n",
       "      <th>trash_route</th>\n",
       "      <th>council_district</th>\n",
       "      <th>state_plan_x</th>\n",
       "      <th>state_plan_y</th>\n",
       "    </tr>\n",
       "  </thead>\n",
       "  <tbody>\n",
       "    <tr>\n",
       "      <th>1</th>\n",
       "      <td>25274</td>\n",
       "      <td>11/01/17</td>\n",
       "      <td>Trash - Curbside/Alley Missed Pickup</td>\n",
       "      <td>curb/trash miss tuesday.</td>\n",
       "      <td>4028 Clarksville Pike</td>\n",
       "      <td>37218</td>\n",
       "      <td>Red River</td>\n",
       "      <td>4202</td>\n",
       "      <td>1.0</td>\n",
       "      <td>1.721259e+06</td>\n",
       "      <td>685444.799565</td>\n",
       "    </tr>\n",
       "    <tr>\n",
       "      <th>2</th>\n",
       "      <td>25276</td>\n",
       "      <td>11/01/17</td>\n",
       "      <td>Trash - Curbside/Alley Missed Pickup</td>\n",
       "      <td>curb/trash miss tuesday.</td>\n",
       "      <td>6528 Thunderbird Dr</td>\n",
       "      <td>37209</td>\n",
       "      <td>Red River</td>\n",
       "      <td>4205</td>\n",
       "      <td>20.0</td>\n",
       "      <td>1.707027e+06</td>\n",
       "      <td>659887.471571</td>\n",
       "    </tr>\n",
       "    <tr>\n",
       "      <th>4</th>\n",
       "      <td>25312</td>\n",
       "      <td>11/01/17</td>\n",
       "      <td>Trash - Curbside/Alley Missed Pickup</td>\n",
       "      <td>missed the even side of the road.</td>\n",
       "      <td>604 Croley Dr</td>\n",
       "      <td>37209</td>\n",
       "      <td>Red River</td>\n",
       "      <td>4203</td>\n",
       "      <td>20.0</td>\n",
       "      <td>1.710186e+06</td>\n",
       "      <td>664205.101066</td>\n",
       "    </tr>\n",
       "  </tbody>\n",
       "</table>\n",
       "</div>"
      ],
      "text/plain": [
       "   request_number date_opened                               request  \\\n",
       "1           25274    11/01/17  Trash - Curbside/Alley Missed Pickup   \n",
       "2           25276    11/01/17  Trash - Curbside/Alley Missed Pickup   \n",
       "4           25312    11/01/17  Trash - Curbside/Alley Missed Pickup   \n",
       "\n",
       "                         description       incident_address  zipcode  \\\n",
       "1           curb/trash miss tuesday.  4028 Clarksville Pike    37218   \n",
       "2           curb/trash miss tuesday.    6528 Thunderbird Dr    37209   \n",
       "4  missed the even side of the road.          604 Croley Dr    37209   \n",
       "\n",
       "  trash_hauler trash_route  council_district  state_plan_x   state_plan_y  \n",
       "1    Red River        4202               1.0  1.721259e+06  685444.799565  \n",
       "2    Red River        4205              20.0  1.707027e+06  659887.471571  \n",
       "4    Red River        4203              20.0  1.710186e+06  664205.101066  "
      ]
     },
     "execution_count": 63,
     "metadata": {},
     "output_type": "execute_result"
    }
   ],
   "source": [
    "all_missed_red_river.head(3)"
   ]
  },
  {
   "cell_type": "markdown",
   "id": "879fdc31-b0a8-4ec6-bd4c-63564aeef279",
   "metadata": {},
   "source": [
    "# *** all_missed_red_river_address"
   ]
  },
  {
   "cell_type": "code",
   "execution_count": 65,
   "id": "57c4c874-ae88-48e9-9867-c26a06dbbd31",
   "metadata": {},
   "outputs": [],
   "source": [
    "all_missed_red_river_address = all_missed_red_river['incident_address'].value_counts()"
   ]
  },
  {
   "cell_type": "code",
   "execution_count": 66,
   "id": "95c19892-653f-426f-847b-7762ce741629",
   "metadata": {},
   "outputs": [],
   "source": [
    "all_missed_red_river_address = pd.DataFrame(all_missed_red_river_address)"
   ]
  },
  {
   "cell_type": "code",
   "execution_count": 67,
   "id": "c230ee11-bf2a-4dfa-9a4a-6eeec089f483",
   "metadata": {},
   "outputs": [
    {
     "data": {
      "text/html": [
       "<div>\n",
       "<style scoped>\n",
       "    .dataframe tbody tr th:only-of-type {\n",
       "        vertical-align: middle;\n",
       "    }\n",
       "\n",
       "    .dataframe tbody tr th {\n",
       "        vertical-align: top;\n",
       "    }\n",
       "\n",
       "    .dataframe thead th {\n",
       "        text-align: right;\n",
       "    }\n",
       "</style>\n",
       "<table border=\"1\" class=\"dataframe\">\n",
       "  <thead>\n",
       "    <tr style=\"text-align: right;\">\n",
       "      <th></th>\n",
       "      <th>count</th>\n",
       "    </tr>\n",
       "    <tr>\n",
       "      <th>incident_address</th>\n",
       "      <th></th>\n",
       "    </tr>\n",
       "  </thead>\n",
       "  <tbody>\n",
       "    <tr>\n",
       "      <th>12546 Old Hickory Blvd, Nashville, Tn 37013, United States</th>\n",
       "      <td>19</td>\n",
       "    </tr>\n",
       "    <tr>\n",
       "      <th>3710 N Natchez Ct</th>\n",
       "      <td>18</td>\n",
       "    </tr>\n",
       "    <tr>\n",
       "      <th>6007 Obrien Ave, Nashville, Tn 37209, United States</th>\n",
       "      <td>18</td>\n",
       "    </tr>\n",
       "    <tr>\n",
       "      <th>5135 Hickory Hollow Pkwy</th>\n",
       "      <td>18</td>\n",
       "    </tr>\n",
       "    <tr>\n",
       "      <th>802 Crescent Rd, Nashville, Tn 37205, United States</th>\n",
       "      <td>17</td>\n",
       "    </tr>\n",
       "  </tbody>\n",
       "</table>\n",
       "</div>"
      ],
      "text/plain": [
       "                                                    count\n",
       "incident_address                                         \n",
       "12546 Old Hickory Blvd, Nashville, Tn 37013, Un...     19\n",
       "3710 N Natchez Ct                                      18\n",
       "6007 Obrien Ave, Nashville, Tn 37209, United St...     18\n",
       "5135 Hickory Hollow Pkwy                               18\n",
       "802 Crescent Rd, Nashville, Tn 37205, United St...     17"
      ]
     },
     "execution_count": 67,
     "metadata": {},
     "output_type": "execute_result"
    }
   ],
   "source": [
    "all_missed_red_river_address.head()"
   ]
  },
  {
   "cell_type": "markdown",
   "id": "06f6ce18-7643-48cc-8f9d-77d8267a827b",
   "metadata": {},
   "source": [
    "# *** all_missed_waste_ind"
   ]
  },
  {
   "cell_type": "code",
   "execution_count": 69,
   "id": "b4b8d613-eabd-4b12-974d-ef76f6b53390",
   "metadata": {},
   "outputs": [],
   "source": [
    "all_missed_waste_ind = all_missed_pickups.loc[all_missed_pickups['trash_hauler'] == 'Waste Ind']"
   ]
  },
  {
   "cell_type": "code",
   "execution_count": 70,
   "id": "82c70faf-2446-4726-9281-bcbfe698af30",
   "metadata": {},
   "outputs": [],
   "source": [
    "all_missed_waste_ind = pd.DataFrame(all_missed_waste_ind)"
   ]
  },
  {
   "cell_type": "code",
   "execution_count": 71,
   "id": "ad40bc7b-633a-4172-913b-a7465b68a313",
   "metadata": {},
   "outputs": [
    {
     "data": {
      "text/html": [
       "<div>\n",
       "<style scoped>\n",
       "    .dataframe tbody tr th:only-of-type {\n",
       "        vertical-align: middle;\n",
       "    }\n",
       "\n",
       "    .dataframe tbody tr th {\n",
       "        vertical-align: top;\n",
       "    }\n",
       "\n",
       "    .dataframe thead th {\n",
       "        text-align: right;\n",
       "    }\n",
       "</style>\n",
       "<table border=\"1\" class=\"dataframe\">\n",
       "  <thead>\n",
       "    <tr style=\"text-align: right;\">\n",
       "      <th></th>\n",
       "      <th>request_number</th>\n",
       "      <th>date_opened</th>\n",
       "      <th>request</th>\n",
       "      <th>description</th>\n",
       "      <th>incident_address</th>\n",
       "      <th>zipcode</th>\n",
       "      <th>trash_hauler</th>\n",
       "      <th>trash_route</th>\n",
       "      <th>council_district</th>\n",
       "      <th>state_plan_x</th>\n",
       "      <th>state_plan_y</th>\n",
       "    </tr>\n",
       "  </thead>\n",
       "  <tbody>\n",
       "    <tr>\n",
       "      <th>3</th>\n",
       "      <td>25307</td>\n",
       "      <td>11/01/17</td>\n",
       "      <td>Trash - Curbside/Alley Missed Pickup</td>\n",
       "      <td>missed</td>\n",
       "      <td>2603 Old Matthews Rd</td>\n",
       "      <td>37207</td>\n",
       "      <td>Waste Ind</td>\n",
       "      <td>2206</td>\n",
       "      <td>2.0</td>\n",
       "      <td>1.735692e+06</td>\n",
       "      <td>685027.245923</td>\n",
       "    </tr>\n",
       "    <tr>\n",
       "      <th>94</th>\n",
       "      <td>25972</td>\n",
       "      <td>11/03/17</td>\n",
       "      <td>Trash - Curbside/Alley Missed Pickup</td>\n",
       "      <td>missed.</td>\n",
       "      <td>916 Petway Ave</td>\n",
       "      <td>37206</td>\n",
       "      <td>Waste Ind</td>\n",
       "      <td>2509</td>\n",
       "      <td>5.0</td>\n",
       "      <td>1.746483e+06</td>\n",
       "      <td>675576.311639</td>\n",
       "    </tr>\n",
       "    <tr>\n",
       "      <th>192</th>\n",
       "      <td>27229</td>\n",
       "      <td>11/09/17</td>\n",
       "      <td>Trash - Curbside/Alley Missed Pickup</td>\n",
       "      <td>trash missed past 2 weeks</td>\n",
       "      <td>415 35Th Ave N</td>\n",
       "      <td>37209</td>\n",
       "      <td>Waste Ind</td>\n",
       "      <td>3306</td>\n",
       "      <td>21.0</td>\n",
       "      <td>1.724396e+06</td>\n",
       "      <td>663795.769164</td>\n",
       "    </tr>\n",
       "  </tbody>\n",
       "</table>\n",
       "</div>"
      ],
      "text/plain": [
       "     request_number date_opened                               request  \\\n",
       "3             25307    11/01/17  Trash - Curbside/Alley Missed Pickup   \n",
       "94            25972    11/03/17  Trash - Curbside/Alley Missed Pickup   \n",
       "192           27229    11/09/17  Trash - Curbside/Alley Missed Pickup   \n",
       "\n",
       "                   description      incident_address  zipcode trash_hauler  \\\n",
       "3                       missed  2603 Old Matthews Rd    37207    Waste Ind   \n",
       "94                     missed.        916 Petway Ave    37206    Waste Ind   \n",
       "192  trash missed past 2 weeks        415 35Th Ave N    37209    Waste Ind   \n",
       "\n",
       "    trash_route  council_district  state_plan_x   state_plan_y  \n",
       "3          2206               2.0  1.735692e+06  685027.245923  \n",
       "94         2509               5.0  1.746483e+06  675576.311639  \n",
       "192        3306              21.0  1.724396e+06  663795.769164  "
      ]
     },
     "execution_count": 71,
     "metadata": {},
     "output_type": "execute_result"
    }
   ],
   "source": [
    "all_missed_waste_ind.head(3)"
   ]
  },
  {
   "cell_type": "markdown",
   "id": "1552f9b3-53a9-40ce-a8b6-97903f33e253",
   "metadata": {},
   "source": [
    "# *** all_missed_waste_ind_address"
   ]
  },
  {
   "cell_type": "code",
   "execution_count": 73,
   "id": "04bfa9a0-2333-428a-a062-6f4890ebb432",
   "metadata": {},
   "outputs": [],
   "source": [
    "all_missed_waste_ind_address = all_missed_waste_ind['incident_address'].value_counts()"
   ]
  },
  {
   "cell_type": "code",
   "execution_count": 74,
   "id": "a5c3333b-9bcf-42b6-aded-a07cd1fb0fd4",
   "metadata": {},
   "outputs": [],
   "source": [
    "all_missed_waste_ind_address = pd.DataFrame(all_missed_waste_ind_address)"
   ]
  },
  {
   "cell_type": "code",
   "execution_count": 75,
   "id": "25cba830-50d9-4f03-9888-3d0cd79c3b99",
   "metadata": {},
   "outputs": [
    {
     "data": {
      "text/html": [
       "<div>\n",
       "<style scoped>\n",
       "    .dataframe tbody tr th:only-of-type {\n",
       "        vertical-align: middle;\n",
       "    }\n",
       "\n",
       "    .dataframe tbody tr th {\n",
       "        vertical-align: top;\n",
       "    }\n",
       "\n",
       "    .dataframe thead th {\n",
       "        text-align: right;\n",
       "    }\n",
       "</style>\n",
       "<table border=\"1\" class=\"dataframe\">\n",
       "  <thead>\n",
       "    <tr style=\"text-align: right;\">\n",
       "      <th></th>\n",
       "      <th>count</th>\n",
       "    </tr>\n",
       "    <tr>\n",
       "      <th>incident_address</th>\n",
       "      <th></th>\n",
       "    </tr>\n",
       "  </thead>\n",
       "  <tbody>\n",
       "    <tr>\n",
       "      <th>15 Hermitage Ave</th>\n",
       "      <td>12</td>\n",
       "    </tr>\n",
       "    <tr>\n",
       "      <th>518 Monroe St</th>\n",
       "      <td>8</td>\n",
       "    </tr>\n",
       "    <tr>\n",
       "      <th>123 37Th Ave N</th>\n",
       "      <td>8</td>\n",
       "    </tr>\n",
       "    <tr>\n",
       "      <th>613 Troy Ct, Nashville, Tn 37207, United States</th>\n",
       "      <td>8</td>\n",
       "    </tr>\n",
       "    <tr>\n",
       "      <th>1011 Elm Hill Pike</th>\n",
       "      <td>7</td>\n",
       "    </tr>\n",
       "  </tbody>\n",
       "</table>\n",
       "</div>"
      ],
      "text/plain": [
       "                                                 count\n",
       "incident_address                                      \n",
       "15 Hermitage Ave                                    12\n",
       "518 Monroe St                                        8\n",
       "123 37Th Ave N                                       8\n",
       "613 Troy Ct, Nashville, Tn 37207, United States      8\n",
       "1011 Elm Hill Pike                                   7"
      ]
     },
     "execution_count": 75,
     "metadata": {},
     "output_type": "execute_result"
    }
   ],
   "source": [
    "all_missed_waste_ind_address.head()"
   ]
  },
  {
   "cell_type": "markdown",
   "id": "e1b3f6b8-ce89-4e34-88bc-cd7f4db20ac7",
   "metadata": {},
   "source": [
    "# *** all_missed_metro"
   ]
  },
  {
   "cell_type": "code",
   "execution_count": 77,
   "id": "45db22d8-5afb-407d-a3a3-f7a6738aba0a",
   "metadata": {},
   "outputs": [],
   "source": [
    "all_missed_metro = all_missed_pickups.loc[all_missed_pickups['trash_hauler'] == 'Metro']"
   ]
  },
  {
   "cell_type": "code",
   "execution_count": 78,
   "id": "772c2bb7-8434-41be-bf26-28f18552da86",
   "metadata": {},
   "outputs": [],
   "source": [
    "all_missed_metro = pd.DataFrame(all_missed_metro)"
   ]
  },
  {
   "cell_type": "code",
   "execution_count": 79,
   "id": "c1b3eeaa-31f9-4bb3-abe6-2297aec18aad",
   "metadata": {},
   "outputs": [
    {
     "data": {
      "text/html": [
       "<div>\n",
       "<style scoped>\n",
       "    .dataframe tbody tr th:only-of-type {\n",
       "        vertical-align: middle;\n",
       "    }\n",
       "\n",
       "    .dataframe tbody tr th {\n",
       "        vertical-align: top;\n",
       "    }\n",
       "\n",
       "    .dataframe thead th {\n",
       "        text-align: right;\n",
       "    }\n",
       "</style>\n",
       "<table border=\"1\" class=\"dataframe\">\n",
       "  <thead>\n",
       "    <tr style=\"text-align: right;\">\n",
       "      <th></th>\n",
       "      <th>request_number</th>\n",
       "      <th>date_opened</th>\n",
       "      <th>request</th>\n",
       "      <th>description</th>\n",
       "      <th>incident_address</th>\n",
       "      <th>zipcode</th>\n",
       "      <th>trash_hauler</th>\n",
       "      <th>trash_route</th>\n",
       "      <th>council_district</th>\n",
       "      <th>state_plan_x</th>\n",
       "      <th>state_plan_y</th>\n",
       "    </tr>\n",
       "  </thead>\n",
       "  <tbody>\n",
       "    <tr>\n",
       "      <th>9</th>\n",
       "      <td>25331</td>\n",
       "      <td>11/01/17</td>\n",
       "      <td>Trash - Curbside/Alley Missed Pickup</td>\n",
       "      <td>trash missed tuesday again, alley</td>\n",
       "      <td>1206 Ireland St</td>\n",
       "      <td>37208</td>\n",
       "      <td>Metro</td>\n",
       "      <td>9208</td>\n",
       "      <td>19.0</td>\n",
       "      <td>1.733029e+06</td>\n",
       "      <td>668762.640891</td>\n",
       "    </tr>\n",
       "    <tr>\n",
       "      <th>12</th>\n",
       "      <td>25359</td>\n",
       "      <td>11/01/17</td>\n",
       "      <td>Trash - Curbside/Alley Missed Pickup</td>\n",
       "      <td>missed. does not have access to alley.</td>\n",
       "      <td>830 Meridian St</td>\n",
       "      <td>37207</td>\n",
       "      <td>Metro</td>\n",
       "      <td>9207</td>\n",
       "      <td>5.0</td>\n",
       "      <td>1.741745e+06</td>\n",
       "      <td>675328.666057</td>\n",
       "    </tr>\n",
       "    <tr>\n",
       "      <th>22</th>\n",
       "      <td>25471</td>\n",
       "      <td>11/01/17</td>\n",
       "      <td>Trash - Curbside/Alley Missed Pickup</td>\n",
       "      <td>alley trash miss tuesday, also others as well,...</td>\n",
       "      <td>1904 Meharry Blvd</td>\n",
       "      <td>37208</td>\n",
       "      <td>Metro</td>\n",
       "      <td>9208</td>\n",
       "      <td>21.0</td>\n",
       "      <td>1.730048e+06</td>\n",
       "      <td>668927.190485</td>\n",
       "    </tr>\n",
       "  </tbody>\n",
       "</table>\n",
       "</div>"
      ],
      "text/plain": [
       "    request_number date_opened                               request  \\\n",
       "9            25331    11/01/17  Trash - Curbside/Alley Missed Pickup   \n",
       "12           25359    11/01/17  Trash - Curbside/Alley Missed Pickup   \n",
       "22           25471    11/01/17  Trash - Curbside/Alley Missed Pickup   \n",
       "\n",
       "                                          description   incident_address  \\\n",
       "9                   trash missed tuesday again, alley    1206 Ireland St   \n",
       "12             missed. does not have access to alley.    830 Meridian St   \n",
       "22  alley trash miss tuesday, also others as well,...  1904 Meharry Blvd   \n",
       "\n",
       "    zipcode trash_hauler trash_route  council_district  state_plan_x  \\\n",
       "9     37208        Metro        9208              19.0  1.733029e+06   \n",
       "12    37207        Metro        9207               5.0  1.741745e+06   \n",
       "22    37208        Metro        9208              21.0  1.730048e+06   \n",
       "\n",
       "     state_plan_y  \n",
       "9   668762.640891  \n",
       "12  675328.666057  \n",
       "22  668927.190485  "
      ]
     },
     "execution_count": 79,
     "metadata": {},
     "output_type": "execute_result"
    }
   ],
   "source": [
    "all_missed_metro.head(3)"
   ]
  },
  {
   "cell_type": "markdown",
   "id": "aa0d5ce8-ba2d-4e72-a30e-aa09a45b03b4",
   "metadata": {},
   "source": [
    "# *** all_missed_metro_address"
   ]
  },
  {
   "cell_type": "code",
   "execution_count": 81,
   "id": "9f8c7157-53eb-428e-9351-acf9175754bb",
   "metadata": {},
   "outputs": [],
   "source": [
    "all_missed_metro_address = all_missed_metro['incident_address'].value_counts()"
   ]
  },
  {
   "cell_type": "code",
   "execution_count": 82,
   "id": "86cf8112-42dc-4575-a246-c3c646470c14",
   "metadata": {},
   "outputs": [],
   "source": [
    "all_missed_metro_address = pd.DataFrame(all_missed_metro_address)"
   ]
  },
  {
   "cell_type": "code",
   "execution_count": 83,
   "id": "eac19aaa-6bb7-4e8e-a55b-72f475965556",
   "metadata": {},
   "outputs": [
    {
     "data": {
      "text/html": [
       "<div>\n",
       "<style scoped>\n",
       "    .dataframe tbody tr th:only-of-type {\n",
       "        vertical-align: middle;\n",
       "    }\n",
       "\n",
       "    .dataframe tbody tr th {\n",
       "        vertical-align: top;\n",
       "    }\n",
       "\n",
       "    .dataframe thead th {\n",
       "        text-align: right;\n",
       "    }\n",
       "</style>\n",
       "<table border=\"1\" class=\"dataframe\">\n",
       "  <thead>\n",
       "    <tr style=\"text-align: right;\">\n",
       "      <th></th>\n",
       "      <th>count</th>\n",
       "    </tr>\n",
       "    <tr>\n",
       "      <th>incident_address</th>\n",
       "      <th></th>\n",
       "    </tr>\n",
       "  </thead>\n",
       "  <tbody>\n",
       "    <tr>\n",
       "      <th>1816 Jo Johnston Ave, Nashville, Tn 37203, United States</th>\n",
       "      <td>16</td>\n",
       "    </tr>\n",
       "    <tr>\n",
       "      <th>2813 Delaware Ave</th>\n",
       "      <td>11</td>\n",
       "    </tr>\n",
       "    <tr>\n",
       "      <th>2801 Delaware Ave</th>\n",
       "      <td>11</td>\n",
       "    </tr>\n",
       "    <tr>\n",
       "      <th>110 George L Davis Blvd</th>\n",
       "      <td>11</td>\n",
       "    </tr>\n",
       "    <tr>\n",
       "      <th>1402 Lillian St</th>\n",
       "      <td>11</td>\n",
       "    </tr>\n",
       "  </tbody>\n",
       "</table>\n",
       "</div>"
      ],
      "text/plain": [
       "                                                    count\n",
       "incident_address                                         \n",
       "1816 Jo Johnston Ave, Nashville, Tn 37203, Unit...     16\n",
       "2813 Delaware Ave                                      11\n",
       "2801 Delaware Ave                                      11\n",
       "110 George L Davis Blvd                                11\n",
       "1402 Lillian St                                        11"
      ]
     },
     "execution_count": 83,
     "metadata": {},
     "output_type": "execute_result"
    }
   ],
   "source": [
    "all_missed_metro_address.head()"
   ]
  },
  {
   "cell_type": "raw",
   "id": "2b7dcc13-b7af-41b8-bca0-2e33971fc445",
   "metadata": {},
   "source": []
  },
  {
   "cell_type": "markdown",
   "id": "f55cc62a-e7f4-4855-9106-f9086c5c6d5b",
   "metadata": {},
   "source": [
    "# What is the biggest factor causing trash to be missed for red river's route with the most missed pickups?"
   ]
  },
  {
   "cell_type": "code",
   "execution_count": 85,
   "id": "d595885c-de0b-4762-be49-4a9f38a044c9",
   "metadata": {},
   "outputs": [
    {
     "data": {
      "text/plain": [
       "count\n",
       "True     7039\n",
       "False    2134\n",
       "Name: count, dtype: int64"
      ]
     },
     "execution_count": 85,
     "metadata": {},
     "output_type": "execute_result"
    }
   ],
   "source": [
    "# How many addresses only had 1 miss?\n",
    "\n",
    "all_missed_red_river_address.value_counts(all_missed_red_river_address['count'] == 1)"
   ]
  },
  {
   "cell_type": "code",
   "execution_count": 86,
   "id": "5ae7a3f0-a9e1-4f86-8b99-67bf771529e8",
   "metadata": {
    "scrolled": true
   },
   "outputs": [
    {
     "data": {
      "text/plain": [
       "trash_route\n",
       "4504     333\n",
       "3302     291\n",
       "4404     258\n",
       "4304     244\n",
       "1303     241\n",
       "        ... \n",
       "2405S      3\n",
       "3303S      2\n",
       "2505S      2\n",
       "4201S      2\n",
       "1502S      1\n",
       "Name: count, Length: 125, dtype: int64"
      ]
     },
     "execution_count": 86,
     "metadata": {},
     "output_type": "execute_result"
    }
   ],
   "source": [
    "# Which routes has the most misses?\n",
    "\n",
    "all_missed_red_river['trash_route'].value_counts()"
   ]
  },
  {
   "cell_type": "code",
   "execution_count": 87,
   "id": "622e23f4-9db1-4660-bcf9-9661e164452d",
   "metadata": {
    "scrolled": true
   },
   "outputs": [
    {
     "data": {
      "text/plain": [
       "count    125.000000\n",
       "mean     104.128000\n",
       "std       76.931995\n",
       "min        1.000000\n",
       "25%       42.000000\n",
       "50%       93.000000\n",
       "75%      166.000000\n",
       "max      333.000000\n",
       "Name: count, dtype: float64"
      ]
     },
     "execution_count": 87,
     "metadata": {},
     "output_type": "execute_result"
    }
   ],
   "source": [
    "# Red river trash route value counts described.  There is something here.  \n",
    "# The difference between the percentiles is much bigger than in previous analysis.\n",
    "\n",
    "all_missed_red_river['trash_route'].value_counts().describe()"
   ]
  },
  {
   "cell_type": "markdown",
   "id": "fb8a4290-b896-4f3c-8d9c-80916fb6e5ab",
   "metadata": {},
   "source": [
    "# *** rr_trash_route_4504"
   ]
  },
  {
   "cell_type": "code",
   "execution_count": 89,
   "id": "e2b85198-a64e-4569-9945-14d73fd6ad23",
   "metadata": {},
   "outputs": [
    {
     "data": {
      "text/html": [
       "<div>\n",
       "<style scoped>\n",
       "    .dataframe tbody tr th:only-of-type {\n",
       "        vertical-align: middle;\n",
       "    }\n",
       "\n",
       "    .dataframe tbody tr th {\n",
       "        vertical-align: top;\n",
       "    }\n",
       "\n",
       "    .dataframe thead th {\n",
       "        text-align: right;\n",
       "    }\n",
       "</style>\n",
       "<table border=\"1\" class=\"dataframe\">\n",
       "  <thead>\n",
       "    <tr style=\"text-align: right;\">\n",
       "      <th></th>\n",
       "      <th>request_number</th>\n",
       "      <th>date_opened</th>\n",
       "      <th>request</th>\n",
       "      <th>description</th>\n",
       "      <th>incident_address</th>\n",
       "      <th>zipcode</th>\n",
       "      <th>trash_hauler</th>\n",
       "      <th>trash_route</th>\n",
       "      <th>council_district</th>\n",
       "      <th>state_plan_x</th>\n",
       "      <th>state_plan_y</th>\n",
       "    </tr>\n",
       "  </thead>\n",
       "  <tbody>\n",
       "    <tr>\n",
       "      <th>326</th>\n",
       "      <td>28863</td>\n",
       "      <td>11/17/17</td>\n",
       "      <td>Trash - Curbside/Alley Missed Pickup</td>\n",
       "      <td>they skipped my house for trash pickup</td>\n",
       "      <td>605 Welshcrest Pl</td>\n",
       "      <td>37013</td>\n",
       "      <td>Red River</td>\n",
       "      <td>4504</td>\n",
       "      <td>32.0</td>\n",
       "      <td>1.776990e+06</td>\n",
       "      <td>632123.549540</td>\n",
       "    </tr>\n",
       "    <tr>\n",
       "      <th>344</th>\n",
       "      <td>29146</td>\n",
       "      <td>11/20/17</td>\n",
       "      <td>Trash - Curbside/Alley Missed Pickup</td>\n",
       "      <td>missed. states has been missed twice in two we...</td>\n",
       "      <td>1312 Rice Hill Cir</td>\n",
       "      <td>37013</td>\n",
       "      <td>Red River</td>\n",
       "      <td>4504</td>\n",
       "      <td>32.0</td>\n",
       "      <td>1.779104e+06</td>\n",
       "      <td>631484.695500</td>\n",
       "    </tr>\n",
       "    <tr>\n",
       "      <th>398</th>\n",
       "      <td>30044</td>\n",
       "      <td>11/27/17</td>\n",
       "      <td>Trash - Curbside/Alley Missed Pickup</td>\n",
       "      <td>missed pick up  - others missed in area</td>\n",
       "      <td>760 Pippin Dr</td>\n",
       "      <td>37013</td>\n",
       "      <td>Red River</td>\n",
       "      <td>4504</td>\n",
       "      <td>28.0</td>\n",
       "      <td>1.775550e+06</td>\n",
       "      <td>629604.762170</td>\n",
       "    </tr>\n",
       "    <tr>\n",
       "      <th>680</th>\n",
       "      <td>33636</td>\n",
       "      <td>12/15/17</td>\n",
       "      <td>Trash - Curbside/Alley Missed Pickup</td>\n",
       "      <td>missed.</td>\n",
       "      <td>4229 Kevinwood Ct</td>\n",
       "      <td>37013</td>\n",
       "      <td>Red River</td>\n",
       "      <td>4504</td>\n",
       "      <td>28.0</td>\n",
       "      <td>1.772752e+06</td>\n",
       "      <td>627876.811341</td>\n",
       "    </tr>\n",
       "    <tr>\n",
       "      <th>697</th>\n",
       "      <td>33779</td>\n",
       "      <td>12/15/17</td>\n",
       "      <td>Trash - Curbside/Alley Missed Pickup</td>\n",
       "      <td>missed pickup</td>\n",
       "      <td>5550 Mt View Rd</td>\n",
       "      <td>37013</td>\n",
       "      <td>Red River</td>\n",
       "      <td>4504</td>\n",
       "      <td>32.0</td>\n",
       "      <td>1.780680e+06</td>\n",
       "      <td>622557.601894</td>\n",
       "    </tr>\n",
       "  </tbody>\n",
       "</table>\n",
       "</div>"
      ],
      "text/plain": [
       "     request_number date_opened                               request  \\\n",
       "326           28863    11/17/17  Trash - Curbside/Alley Missed Pickup   \n",
       "344           29146    11/20/17  Trash - Curbside/Alley Missed Pickup   \n",
       "398           30044    11/27/17  Trash - Curbside/Alley Missed Pickup   \n",
       "680           33636    12/15/17  Trash - Curbside/Alley Missed Pickup   \n",
       "697           33779    12/15/17  Trash - Curbside/Alley Missed Pickup   \n",
       "\n",
       "                                           description    incident_address  \\\n",
       "326             they skipped my house for trash pickup   605 Welshcrest Pl   \n",
       "344  missed. states has been missed twice in two we...  1312 Rice Hill Cir   \n",
       "398            missed pick up  - others missed in area       760 Pippin Dr   \n",
       "680                                            missed.   4229 Kevinwood Ct   \n",
       "697                                      missed pickup     5550 Mt View Rd   \n",
       "\n",
       "     zipcode trash_hauler trash_route  council_district  state_plan_x  \\\n",
       "326    37013    Red River        4504              32.0  1.776990e+06   \n",
       "344    37013    Red River        4504              32.0  1.779104e+06   \n",
       "398    37013    Red River        4504              28.0  1.775550e+06   \n",
       "680    37013    Red River        4504              28.0  1.772752e+06   \n",
       "697    37013    Red River        4504              32.0  1.780680e+06   \n",
       "\n",
       "      state_plan_y  \n",
       "326  632123.549540  \n",
       "344  631484.695500  \n",
       "398  629604.762170  \n",
       "680  627876.811341  \n",
       "697  622557.601894  "
      ]
     },
     "execution_count": 89,
     "metadata": {},
     "output_type": "execute_result"
    }
   ],
   "source": [
    "all_missed_red_river.loc[all_missed_red_river['trash_route'] == '4504'].head()"
   ]
  },
  {
   "cell_type": "code",
   "execution_count": 90,
   "id": "478ce345-a3fe-40f7-b208-ee5efa0040bc",
   "metadata": {},
   "outputs": [],
   "source": [
    "rr_trash_route_4504 = all_missed_red_river.loc[all_missed_red_river['trash_route'] == '4504']"
   ]
  },
  {
   "cell_type": "code",
   "execution_count": 91,
   "id": "ee83f0a5-57de-44b0-b7ad-6e718a590da2",
   "metadata": {},
   "outputs": [
    {
     "data": {
      "text/html": [
       "<div>\n",
       "<style scoped>\n",
       "    .dataframe tbody tr th:only-of-type {\n",
       "        vertical-align: middle;\n",
       "    }\n",
       "\n",
       "    .dataframe tbody tr th {\n",
       "        vertical-align: top;\n",
       "    }\n",
       "\n",
       "    .dataframe thead th {\n",
       "        text-align: right;\n",
       "    }\n",
       "</style>\n",
       "<table border=\"1\" class=\"dataframe\">\n",
       "  <thead>\n",
       "    <tr style=\"text-align: right;\">\n",
       "      <th></th>\n",
       "      <th>request_number</th>\n",
       "      <th>date_opened</th>\n",
       "      <th>request</th>\n",
       "      <th>description</th>\n",
       "      <th>incident_address</th>\n",
       "      <th>zipcode</th>\n",
       "      <th>trash_hauler</th>\n",
       "      <th>trash_route</th>\n",
       "      <th>council_district</th>\n",
       "      <th>state_plan_x</th>\n",
       "      <th>state_plan_y</th>\n",
       "    </tr>\n",
       "  </thead>\n",
       "  <tbody>\n",
       "    <tr>\n",
       "      <th>326</th>\n",
       "      <td>28863</td>\n",
       "      <td>11/17/17</td>\n",
       "      <td>Trash - Curbside/Alley Missed Pickup</td>\n",
       "      <td>they skipped my house for trash pickup</td>\n",
       "      <td>605 Welshcrest Pl</td>\n",
       "      <td>37013</td>\n",
       "      <td>Red River</td>\n",
       "      <td>4504</td>\n",
       "      <td>32.0</td>\n",
       "      <td>1.776990e+06</td>\n",
       "      <td>632123.549540</td>\n",
       "    </tr>\n",
       "    <tr>\n",
       "      <th>344</th>\n",
       "      <td>29146</td>\n",
       "      <td>11/20/17</td>\n",
       "      <td>Trash - Curbside/Alley Missed Pickup</td>\n",
       "      <td>missed. states has been missed twice in two we...</td>\n",
       "      <td>1312 Rice Hill Cir</td>\n",
       "      <td>37013</td>\n",
       "      <td>Red River</td>\n",
       "      <td>4504</td>\n",
       "      <td>32.0</td>\n",
       "      <td>1.779104e+06</td>\n",
       "      <td>631484.695500</td>\n",
       "    </tr>\n",
       "    <tr>\n",
       "      <th>398</th>\n",
       "      <td>30044</td>\n",
       "      <td>11/27/17</td>\n",
       "      <td>Trash - Curbside/Alley Missed Pickup</td>\n",
       "      <td>missed pick up  - others missed in area</td>\n",
       "      <td>760 Pippin Dr</td>\n",
       "      <td>37013</td>\n",
       "      <td>Red River</td>\n",
       "      <td>4504</td>\n",
       "      <td>28.0</td>\n",
       "      <td>1.775550e+06</td>\n",
       "      <td>629604.762170</td>\n",
       "    </tr>\n",
       "    <tr>\n",
       "      <th>680</th>\n",
       "      <td>33636</td>\n",
       "      <td>12/15/17</td>\n",
       "      <td>Trash - Curbside/Alley Missed Pickup</td>\n",
       "      <td>missed.</td>\n",
       "      <td>4229 Kevinwood Ct</td>\n",
       "      <td>37013</td>\n",
       "      <td>Red River</td>\n",
       "      <td>4504</td>\n",
       "      <td>28.0</td>\n",
       "      <td>1.772752e+06</td>\n",
       "      <td>627876.811341</td>\n",
       "    </tr>\n",
       "    <tr>\n",
       "      <th>697</th>\n",
       "      <td>33779</td>\n",
       "      <td>12/15/17</td>\n",
       "      <td>Trash - Curbside/Alley Missed Pickup</td>\n",
       "      <td>missed pickup</td>\n",
       "      <td>5550 Mt View Rd</td>\n",
       "      <td>37013</td>\n",
       "      <td>Red River</td>\n",
       "      <td>4504</td>\n",
       "      <td>32.0</td>\n",
       "      <td>1.780680e+06</td>\n",
       "      <td>622557.601894</td>\n",
       "    </tr>\n",
       "  </tbody>\n",
       "</table>\n",
       "</div>"
      ],
      "text/plain": [
       "     request_number date_opened                               request  \\\n",
       "326           28863    11/17/17  Trash - Curbside/Alley Missed Pickup   \n",
       "344           29146    11/20/17  Trash - Curbside/Alley Missed Pickup   \n",
       "398           30044    11/27/17  Trash - Curbside/Alley Missed Pickup   \n",
       "680           33636    12/15/17  Trash - Curbside/Alley Missed Pickup   \n",
       "697           33779    12/15/17  Trash - Curbside/Alley Missed Pickup   \n",
       "\n",
       "                                           description    incident_address  \\\n",
       "326             they skipped my house for trash pickup   605 Welshcrest Pl   \n",
       "344  missed. states has been missed twice in two we...  1312 Rice Hill Cir   \n",
       "398            missed pick up  - others missed in area       760 Pippin Dr   \n",
       "680                                            missed.   4229 Kevinwood Ct   \n",
       "697                                      missed pickup     5550 Mt View Rd   \n",
       "\n",
       "     zipcode trash_hauler trash_route  council_district  state_plan_x  \\\n",
       "326    37013    Red River        4504              32.0  1.776990e+06   \n",
       "344    37013    Red River        4504              32.0  1.779104e+06   \n",
       "398    37013    Red River        4504              28.0  1.775550e+06   \n",
       "680    37013    Red River        4504              28.0  1.772752e+06   \n",
       "697    37013    Red River        4504              32.0  1.780680e+06   \n",
       "\n",
       "      state_plan_y  \n",
       "326  632123.549540  \n",
       "344  631484.695500  \n",
       "398  629604.762170  \n",
       "680  627876.811341  \n",
       "697  622557.601894  "
      ]
     },
     "execution_count": 91,
     "metadata": {},
     "output_type": "execute_result"
    }
   ],
   "source": [
    "rr_trash_route_4504.head()"
   ]
  },
  {
   "cell_type": "code",
   "execution_count": null,
   "id": "f6f4d377-af85-4b07-b4e1-14071d26495e",
   "metadata": {},
   "outputs": [],
   "source": []
  },
  {
   "cell_type": "markdown",
   "id": "4e931c08-b48f-41eb-b74e-9dc77b656990",
   "metadata": {},
   "source": [
    "# Why does 5135 hickory hollow pkwy have so many more missed pickups?"
   ]
  },
  {
   "cell_type": "markdown",
   "id": "86b10b80-6d34-402c-86c5-acf49bc0fd0e",
   "metadata": {},
   "source": [
    "# *** amprrtr5404_by_address"
   ]
  },
  {
   "cell_type": "code",
   "execution_count": 94,
   "id": "45cdc56e-68a1-490c-ad8e-90633493bf2a",
   "metadata": {},
   "outputs": [],
   "source": [
    "amprrtr5404_by_address = rr_trash_route_4504['incident_address'].value_counts()"
   ]
  },
  {
   "cell_type": "code",
   "execution_count": 95,
   "id": "44d076ea-d09d-4a29-a2ed-7483d5c2269d",
   "metadata": {},
   "outputs": [
    {
     "data": {
      "text/plain": [
       "incident_address\n",
       "5135 Hickory Hollow Pkwy                                    18\n",
       "5550 Mt View Rd                                              7\n",
       "4206 Moss Rd, Nashville, Tn 37013, United States             6\n",
       "5159 Hickory Hollow Pkwy                                     6\n",
       "1752 Bridgecrest Dr, Nashville, Tn 37013, United States      5\n",
       "                                                            ..\n",
       "2940 Baby Ruth Ln, 37013                                     1\n",
       "1070 Rural Hill Rd, Nashville, Tn 37013, United States       1\n",
       "1968 Wild Oaks Ct, Nashville, Tn 37013, United States        1\n",
       "2816 Old Franklin Rd, Nashville, Tn 37013, United States     1\n",
       "5062 Mt View Rd, Nashville, Tn 37013, United States          1\n",
       "Name: count, Length: 209, dtype: int64"
      ]
     },
     "execution_count": 95,
     "metadata": {},
     "output_type": "execute_result"
    }
   ],
   "source": [
    "amprrtr5404_by_address"
   ]
  },
  {
   "cell_type": "code",
   "execution_count": 96,
   "id": "237fe9a7-dcdf-425f-9f12-4b423a2a035a",
   "metadata": {},
   "outputs": [
    {
     "data": {
      "text/plain": [
       "count    209.000000\n",
       "mean       1.593301\n",
       "std        1.522950\n",
       "min        1.000000\n",
       "25%        1.000000\n",
       "50%        1.000000\n",
       "75%        2.000000\n",
       "max       18.000000\n",
       "Name: count, dtype: float64"
      ]
     },
     "execution_count": 96,
     "metadata": {},
     "output_type": "execute_result"
    }
   ],
   "source": [
    "# Why is the max almost 10% of the total count?\n",
    "\n",
    "rr_trash_route_4504['incident_address'].value_counts().describe()"
   ]
  },
  {
   "cell_type": "markdown",
   "id": "58b7fb27-0613-430c-a264-29d72e2f20e8",
   "metadata": {},
   "source": [
    "# ASNWER:  This address is at the dead end of a street that is difficult to turn out of."
   ]
  },
  {
   "cell_type": "markdown",
   "id": "46a68477-b2a1-4c72-b4ef-15a64e4eee2e",
   "metadata": {},
   "source": [
    "# $$$: amp_rr_tr_45_dead_end"
   ]
  },
  {
   "cell_type": "code",
   "execution_count": 99,
   "id": "7531399c-5e47-4cae-a059-15f9c948a80f",
   "metadata": {},
   "outputs": [],
   "source": [
    "amp_rr_tr_45_dead_end = rr_trash_route_4504.loc[rr_trash_route_4504['incident_address'] == '5135 Hickory Hollow Pkwy'].head(5)"
   ]
  },
  {
   "cell_type": "code",
   "execution_count": 100,
   "id": "fac6a7bb-7d0a-4bdf-94fd-52db6c0537ba",
   "metadata": {},
   "outputs": [
    {
     "data": {
      "text/html": [
       "<div>\n",
       "<style scoped>\n",
       "    .dataframe tbody tr th:only-of-type {\n",
       "        vertical-align: middle;\n",
       "    }\n",
       "\n",
       "    .dataframe tbody tr th {\n",
       "        vertical-align: top;\n",
       "    }\n",
       "\n",
       "    .dataframe thead th {\n",
       "        text-align: right;\n",
       "    }\n",
       "</style>\n",
       "<table border=\"1\" class=\"dataframe\">\n",
       "  <thead>\n",
       "    <tr style=\"text-align: right;\">\n",
       "      <th></th>\n",
       "      <th>request_number</th>\n",
       "      <th>date_opened</th>\n",
       "      <th>request</th>\n",
       "      <th>description</th>\n",
       "      <th>incident_address</th>\n",
       "      <th>zipcode</th>\n",
       "      <th>trash_hauler</th>\n",
       "      <th>trash_route</th>\n",
       "      <th>council_district</th>\n",
       "      <th>state_plan_x</th>\n",
       "      <th>state_plan_y</th>\n",
       "    </tr>\n",
       "  </thead>\n",
       "  <tbody>\n",
       "    <tr>\n",
       "      <th>4822</th>\n",
       "      <td>83379</td>\n",
       "      <td>07/16/18</td>\n",
       "      <td>Trash - Curbside/Alley Missed Pickup</td>\n",
       "      <td>missed- caller is at a dead end</td>\n",
       "      <td>5135 Hickory Hollow Pkwy</td>\n",
       "      <td>37013</td>\n",
       "      <td>Red River</td>\n",
       "      <td>4504</td>\n",
       "      <td>32.0</td>\n",
       "      <td>1.771715e+06</td>\n",
       "      <td>625525.306114</td>\n",
       "    </tr>\n",
       "    <tr>\n",
       "      <th>5158</th>\n",
       "      <td>87010</td>\n",
       "      <td>07/31/18</td>\n",
       "      <td>Trash - Curbside/Alley Missed Pickup</td>\n",
       "      <td>missed- caller is at a dead end</td>\n",
       "      <td>5135 Hickory Hollow Pkwy</td>\n",
       "      <td>37013</td>\n",
       "      <td>Red River</td>\n",
       "      <td>4504</td>\n",
       "      <td>32.0</td>\n",
       "      <td>1.771716e+06</td>\n",
       "      <td>625524.026077</td>\n",
       "    </tr>\n",
       "    <tr>\n",
       "      <th>5756</th>\n",
       "      <td>93160</td>\n",
       "      <td>08/27/18</td>\n",
       "      <td>Trash - Curbside/Alley Missed Pickup</td>\n",
       "      <td>missed- caller is at a dead end</td>\n",
       "      <td>5135 Hickory Hollow Pkwy</td>\n",
       "      <td>37013</td>\n",
       "      <td>Red River</td>\n",
       "      <td>4504</td>\n",
       "      <td>32.0</td>\n",
       "      <td>1.771715e+06</td>\n",
       "      <td>625525.306114</td>\n",
       "    </tr>\n",
       "    <tr>\n",
       "      <th>5912</th>\n",
       "      <td>95192</td>\n",
       "      <td>09/05/18</td>\n",
       "      <td>Trash - Curbside/Alley Missed Pickup</td>\n",
       "      <td>missed- caller is at a dead end</td>\n",
       "      <td>5135 Hickory Hollow Pkwy</td>\n",
       "      <td>37013</td>\n",
       "      <td>Red River</td>\n",
       "      <td>4504</td>\n",
       "      <td>32.0</td>\n",
       "      <td>1.771715e+06</td>\n",
       "      <td>625525.306114</td>\n",
       "    </tr>\n",
       "    <tr>\n",
       "      <th>6461</th>\n",
       "      <td>104553</td>\n",
       "      <td>10/01/18</td>\n",
       "      <td>Trash - Curbside/Alley Missed Pickup</td>\n",
       "      <td>missed- trash again last friday caller is at a...</td>\n",
       "      <td>5135 Hickory Hollow Pkwy</td>\n",
       "      <td>37013</td>\n",
       "      <td>Red River</td>\n",
       "      <td>4504</td>\n",
       "      <td>32.0</td>\n",
       "      <td>1.771717e+06</td>\n",
       "      <td>625521.535039</td>\n",
       "    </tr>\n",
       "  </tbody>\n",
       "</table>\n",
       "</div>"
      ],
      "text/plain": [
       "      request_number date_opened                               request  \\\n",
       "4822           83379    07/16/18  Trash - Curbside/Alley Missed Pickup   \n",
       "5158           87010    07/31/18  Trash - Curbside/Alley Missed Pickup   \n",
       "5756           93160    08/27/18  Trash - Curbside/Alley Missed Pickup   \n",
       "5912           95192    09/05/18  Trash - Curbside/Alley Missed Pickup   \n",
       "6461          104553    10/01/18  Trash - Curbside/Alley Missed Pickup   \n",
       "\n",
       "                                            description  \\\n",
       "4822                    missed- caller is at a dead end   \n",
       "5158                    missed- caller is at a dead end   \n",
       "5756                    missed- caller is at a dead end   \n",
       "5912                    missed- caller is at a dead end   \n",
       "6461  missed- trash again last friday caller is at a...   \n",
       "\n",
       "              incident_address  zipcode trash_hauler trash_route  \\\n",
       "4822  5135 Hickory Hollow Pkwy    37013    Red River        4504   \n",
       "5158  5135 Hickory Hollow Pkwy    37013    Red River        4504   \n",
       "5756  5135 Hickory Hollow Pkwy    37013    Red River        4504   \n",
       "5912  5135 Hickory Hollow Pkwy    37013    Red River        4504   \n",
       "6461  5135 Hickory Hollow Pkwy    37013    Red River        4504   \n",
       "\n",
       "      council_district  state_plan_x   state_plan_y  \n",
       "4822              32.0  1.771715e+06  625525.306114  \n",
       "5158              32.0  1.771716e+06  625524.026077  \n",
       "5756              32.0  1.771715e+06  625525.306114  \n",
       "5912              32.0  1.771715e+06  625525.306114  \n",
       "6461              32.0  1.771717e+06  625521.535039  "
      ]
     },
     "execution_count": 100,
     "metadata": {},
     "output_type": "execute_result"
    }
   ],
   "source": [
    "amp_rr_tr_45_dead_end.head()"
   ]
  }
 ],
 "metadata": {
  "kernelspec": {
   "display_name": "Python 3 (ipykernel)",
   "language": "python",
   "name": "python3"
  },
  "language_info": {
   "codemirror_mode": {
    "name": "ipython",
    "version": 3
   },
   "file_extension": ".py",
   "mimetype": "text/x-python",
   "name": "python",
   "nbconvert_exporter": "python",
   "pygments_lexer": "ipython3",
   "version": "3.12.4"
  }
 },
 "nbformat": 4,
 "nbformat_minor": 5
}
